{
 "cells": [
  {
   "cell_type": "markdown",
   "metadata": {},
   "source": [
    "# Yapay Sinir Ağları\n",
    "\n",
    "Bu yazıyı ve kodları hazırlarken, Michael Nielson'ın açık kaynak Neural Networks and Deep Learning adlı [kitabından](http://neuralnetworksanddeeplearning.com) yararlandım.\n"
   ]
  },
  {
   "cell_type": "markdown",
   "metadata": {},
   "source": [
    "### Numpy hatırlayalım"
   ]
  },
  {
   "cell_type": "code",
   "execution_count": 1,
   "metadata": {
    "collapsed": true
   },
   "outputs": [],
   "source": [
    "import random\n",
    "import numpy as np"
   ]
  },
  {
   "cell_type": "markdown",
   "metadata": {},
   "source": [
    "![](NumPy.png)"
   ]
  },
  {
   "cell_type": "code",
   "execution_count": 2,
   "metadata": {},
   "outputs": [
    {
     "name": "stdout",
     "output_type": "stream",
     "text": [
      "(3, 2)\n",
      "(2, 1)\n",
      "[[1]\n",
      " [2]\n",
      " [3]]\n"
     ]
    }
   ],
   "source": [
    "e = np.array([[1,1],\n",
    "              [2,2],\n",
    "              [3,3,]])\n",
    "f = np.array([[1],\n",
    "              [0]])\n",
    "\n",
    "print(np.shape(e))\n",
    "print(np.shape(f))\n",
    "print(e.dot(f))"
   ]
  },
  {
   "cell_type": "code",
   "execution_count": 3,
   "metadata": {},
   "outputs": [
    {
     "name": "stdout",
     "output_type": "stream",
     "text": [
      "[[1 1]\n",
      " [2 2]\n",
      " [3 3]] \n",
      "\n",
      "[[1 2 3]\n",
      " [1 2 3]] \n",
      "\n"
     ]
    }
   ],
   "source": [
    "print(e,\"\\n\")\n",
    "print(e.T,\"\\n\")"
   ]
  },
  {
   "cell_type": "code",
   "execution_count": 4,
   "metadata": {},
   "outputs": [
    {
     "name": "stdout",
     "output_type": "stream",
     "text": [
      "[1 1] [1 2 3]\n",
      "[2 2] [1 2 3]\n"
     ]
    }
   ],
   "source": [
    "for a, b in zip(e, e.T):\n",
    "    print(a,b)"
   ]
  },
  {
   "cell_type": "code",
   "execution_count": 5,
   "metadata": {},
   "outputs": [
    {
     "name": "stdout",
     "output_type": "stream",
     "text": [
      "[1 2 3]\n"
     ]
    }
   ],
   "source": [
    "dVeri = np.array([1,2,3])\n",
    "def dFonk():\n",
    "    dVeri = 2 * dVeri\n",
    "print(dVeri)"
   ]
  },
  {
   "cell_type": "code",
   "execution_count": 6,
   "metadata": {},
   "outputs": [
    {
     "name": "stdout",
     "output_type": "stream",
     "text": [
      "[2 4 6]\n"
     ]
    }
   ],
   "source": [
    "dVeri = 2 * dVeri\n",
    "print(dVeri)"
   ]
  },
  {
   "cell_type": "code",
   "execution_count": 7,
   "metadata": {},
   "outputs": [
    {
     "name": "stdout",
     "output_type": "stream",
     "text": [
      "1 a\n",
      "3 b\n",
      "5 x\n",
      "7 y\n"
     ]
    }
   ],
   "source": [
    "A = [1,3,5,7]\n",
    "B = [\"a\",\"b\",\"x\",\"y\"]\n",
    "for a,b in zip(A,B):\n",
    "    print(a,b)"
   ]
  },
  {
   "cell_type": "markdown",
   "metadata": {},
   "source": [
    "#### Yardimci Fonksiyonlar\n",
    "\n",
    "Sıgmoid fonksiyonu bir nöronun gelen toplam girdiyi, 0 ile 1 arasında bie çıktı değerine dönüştürür. Bu fonksiyonun türevi, kendisi ile 1den cıkarılmış halinin çarpınıma eşittir."
   ]
  },
  {
   "cell_type": "code",
   "execution_count": 8,
   "metadata": {
    "collapsed": true
   },
   "outputs": [],
   "source": [
    "#### Yardimci Fonksiyonlar\n",
    "def sigmoid(z):\n",
    "    return 1.0/(1.0+np.exp(-z))\n",
    "def sigmoid_turevi(z):\n",
    "    return sigmoid(z)*(1-sigmoid(z))"
   ]
  },
  {
   "cell_type": "markdown",
   "metadata": {},
   "source": [
    "### Ağı oluşturalım\n",
    "Her bir katmanda kaç sinir hücresi olacağını bir listeden alarak, ağı oluşturan bir fonksiyon yazalım."
   ]
  },
  {
   "cell_type": "code",
   "execution_count": 9,
   "metadata": {
    "collapsed": true
   },
   "outputs": [],
   "source": [
    "def ag(katmanlar):\n",
    "    b = [np.random.randn(k, 1) for k in katmanlar[1:]] # bias degerleri (ilk katman haric)\n",
    "    W = [np.random.randn(k2, k1) for k1, k2 in zip(katmanlar[:-1],katmanlar[1:])]\n",
    "    return W, b"
   ]
  },
  {
   "cell_type": "markdown",
   "metadata": {},
   "source": [
    "#### Örnek bir ağ"
   ]
  },
  {
   "cell_type": "code",
   "execution_count": 10,
   "metadata": {},
   "outputs": [
    {
     "name": "stdout",
     "output_type": "stream",
     "text": [
      "agirlik :\n",
      "[[ 0.29721865 -1.68722801 -1.19931727]\n",
      " [ 1.72890017 -0.7413104   0.13642544]\n",
      " [ 0.76087426  2.03055655 -1.21882981]\n",
      " [-0.92991474  0.94758249 -0.88114933]] \n",
      "\n",
      "[[ 0.06045751 -0.95326098 -1.16823026 -1.20507253]\n",
      " [ 0.76818146 -1.60266147  1.87936828 -1.36899306]] \n",
      "\n",
      "bias :\n",
      "[[ 0.90691754]\n",
      " [-0.07374428]\n",
      " [-1.76147276]\n",
      " [-1.04148146]] \n",
      "\n",
      "[[ 0.99398613]\n",
      " [ 2.08639626]] \n",
      "\n"
     ]
    }
   ],
   "source": [
    "katmanlar = [3, 4, 2]\n",
    "agirlik, bias = ag(katmanlar)\n",
    "\n",
    "print(\"agirlik :\")\n",
    "for w in agirlik:\n",
    "    print(w, \"\\n\")\n",
    "    \n",
    "print(\"bias :\")\n",
    "for b in bias:\n",
    "    print(b, \"\\n\")"
   ]
  },
  {
   "cell_type": "markdown",
   "metadata": {},
   "source": [
    "### İleri Besleme\n",
    "\n",
    "![network.jpg](network.jpg)\n"
   ]
  },
  {
   "cell_type": "markdown",
   "metadata": {},
   "source": [
    "![noronislem.JPG](noronislem.JPG)\n",
    "\n",
    "\n",
    "Yukarıdaki yapay sinir ağı, 3 katmandan oluşmaktadır.\n",
    "\n",
    "> Birinci katman, girdi olarak $x_1$, $x_2$, $x_3$ verisini alir. \n",
    "\n",
    "ilk katmana özel olarak $a_i(1) = z_i(1) = x_i$dir. \n",
    "\n",
    "> Daha sonraki katmanlardaki nöronlar, bir önceki katmanın ağırlıklı toplamını girdi olarak kabul eder.\n",
    "\n",
    "\n",
    "\n",
    "Genel olarak,\n",
    "\n",
    "> $z_j(t) = \\sum_i w_{j,i}(t) \\times a_i(t-1) + b_j(t)$\n",
    "\n",
    "mesela  $z_4(2) = w_{4,1}(2) \\times a_1(1) + w_{4,2}(2) \\times a_2(1) + w_{4,3}(2) \\times a_3(1) + b_4(2)$dir.\n",
    "\n",
    "> $w_{j,i}(t)$: $\\hspace{1cm}$ $(t-1)$'inci katmandaki $i$'nci nörondan $(t)$'inci katmandaki $j$nci nörona olan bağlantının ağırlık değeridir.\n",
    "\n",
    "Aynı şekilde\n",
    "\n",
    "> $b_{j}(t)$: $\\hspace{1cm}$ $(t)$'inci katmandaki $j$'nci nörona ait bias değeridir\n",
    "\n",
    "Bir nöronun çıktısı, sigmoid fonksiyonuna net girdi değeri verilerek hesaplanır.\n",
    "\n",
    "> $a_j(t) = \\sigma(z_j(t)) = \\frac{1}{1 + e^{z_j(t)}}$\n",
    "\n",
    "\n",
    "#### İleri Besleme Algoritması\n",
    "\n",
    "Ağımız verilen girdi x ve ağırlık w, bias b değerlerine göre bir çıktı üretir. Vektörize edilerek yapılan işlem\n",
    "\n",
    "> $z(t) = w(t) \\cdot a(t-1) + b(t)$\n",
    "\n",
    "> $a(t) = \\sigma(z(t))$\n",
    "\n",
    "Her bir katmandaki nöronlar, önceki katmanlardaki nöron çıktılarını ağırlıklarıyla çarpıp son olarak bias(çapa ya da referans) değeri ekleyerek net girdi olan $z$ değerini bulurlar. Sonraki işlem ise, sigmoid ile çıktı değerini hesaplamaktır.\n",
    "\n",
    "\n",
    "![vektorize.jpg](vektorize.jpg)"
   ]
  },
  {
   "cell_type": "code",
   "execution_count": 11,
   "metadata": {
    "collapsed": true
   },
   "outputs": [],
   "source": [
    "def ileribesleme(a, agirlik, bias):\n",
    "    \"\"\"Katman katman yeni a degerleri hesaplaniyor\"\"\"\n",
    "    for w, b in zip(agirlik, bias):\n",
    "        z = np.dot(w, a)+b\n",
    "        a = sigmoid(z)\n",
    "    return a"
   ]
  },
  {
   "cell_type": "code",
   "execution_count": 12,
   "metadata": {
    "collapsed": true
   },
   "outputs": [],
   "source": [
    "katmanlar = [2, 3, 1]\n",
    "agirlik, bias = ag(katmanlar)\n",
    "\n",
    "#girdi = [(0,0)]\n",
    "#print(ileribesleme(girdi, agirlik, bias))"
   ]
  },
  {
   "cell_type": "code",
   "execution_count": 13,
   "metadata": {},
   "outputs": [
    {
     "name": "stdout",
     "output_type": "stream",
     "text": [
      "a: [[0]\n",
      " [0]] \n",
      "\n",
      "w: [[-0.85882301  0.16919212]\n",
      " [ 0.20681862  0.16358916]\n",
      " [ 2.0653042  -2.11029037]] \n",
      "\n",
      "b: [[-1.06762571]\n",
      " [-0.03983092]\n",
      " [-0.93356285]] \n",
      "\n",
      "Sonuc a: [[ 0.25585487]\n",
      " [ 0.49004359]\n",
      " [ 0.28220245]] \n",
      "\n",
      "a: [[ 0.25585487]\n",
      " [ 0.49004359]\n",
      " [ 0.28220245]] \n",
      "\n",
      "w: [[ 1.30604392  0.66338842 -0.13118192]] \n",
      "\n",
      "b: [[-0.36150485]] \n",
      "\n",
      "Sonuc a: [[ 0.56481382]] \n",
      "\n"
     ]
    }
   ],
   "source": [
    "a = np.reshape([0,0], (2, 1))\n",
    "for w, b in zip(agirlik, bias):\n",
    "    print(\"a:\", a, \"\\n\")\n",
    "    print(\"w:\", w, \"\\n\")\n",
    "    print(\"b:\", b, \"\\n\")\n",
    "    a = sigmoid(np.dot(w, a)+b)\n",
    "    print(\"Sonuc a:\", a, \"\\n\")\n",
    "    "
   ]
  },
  {
   "cell_type": "code",
   "execution_count": 14,
   "metadata": {},
   "outputs": [
    {
     "name": "stdout",
     "output_type": "stream",
     "text": [
      "[[ 0.56481382]]\n"
     ]
    }
   ],
   "source": [
    "girdi = np.reshape([0,0], (2, 1))\n",
    "print(ileribesleme(girdi, agirlik, bias))"
   ]
  },
  {
   "cell_type": "markdown",
   "metadata": {},
   "source": [
    "### Yardımcı Türevler\n",
    "\n",
    "İleri Besleme algortimasına bakarak şu türevleri bulalım, bunlar bize geri besleme algoritmasında yardımcı olacak\n",
    "\n",
    "> \n",
    "$$\n",
    "\\frac{d z_j(t+1)}{d z_i(t)} = \n",
    "\\frac{ d (\\sum_i w_{j,i}(t+1) \\times \\sigma(z_i(t)) + b_j(t+1))}{d z_i(t)}\n",
    "=\n",
    "w_{j,i}(t+1) \\times \\sigma'(z_i(t))\n",
    "$$\n",
    "\n",
    "![back1.jpg](back1.jpg)"
   ]
  },
  {
   "cell_type": "markdown",
   "metadata": {},
   "source": [
    "### Geri Besleme\n",
    "\n",
    "Geri besleme algoritmasındaki kilit nokta,\n",
    "bir nöronun ait girdideki değişim, hatayı nasıl etkiler sorusudur.\n",
    "\n",
    "\n",
    "$$\n",
    "\\Delta_j(t) =\n",
    "\\frac{d Hata}{d z_j(t)}\n",
    "$$\n",
    "\n",
    "Bu soruya vereceğimiz cevap ile, ağırlık ve bias değerlerini hatayı minimize edecek şekilde nasıl güncelleyeceğimizi bulacağız. Ve tabi gene gradyan iniş yöntemini kullanacağız.\n",
    "\n",
    "$$Hata = \\frac{1}{2} \\sum_j (y_j - a_j(T))^2$$\n",
    "\n",
    "$T$ ağdaki çıktı katmanıdır. Bu durumda çıktı katmanındaki j'inci nöronun hataya etkisi\n",
    "\n",
    "$$\n",
    "\\Delta_j(T) =\n",
    "\\frac{d Hata}{d z_j(T)} = \\frac{d Hata}{d a_j(T)} \\frac{d a_j(T)}{d z_j(T)}\n",
    "= (a_j(T)-y_j ) \\frac{d a_j(T)}{d z_j(T)}\n",
    "= (a_j(T)-y_j ) \\sigma'(z_j(T))\n",
    "$$ \n",
    "\n",
    "Çıktı katmanındaki tüm nöronların hataya olan etkisini vektörize edersek\n",
    "\n",
    "> \n",
    "$$\n",
    "\\Delta(T) = \\frac{d Hata}{d z(T)} = (a(T)-y) \\sigma'(z(T))\n",
    "$$\n",
    "\n",
    "Dikkat ederseniz, vektörize ettiğimizde indislerden kurtuluyoruz. Peki bir ara katmandan, önceki ara katmana hata nasıl yayılır?\n",
    "\n",
    "> \n",
    "$$\n",
    "\\Delta_i(t) =\n",
    "\\frac{d Hata}{d z_i(t)} \n",
    "= \n",
    "\\sum_j \\frac{d Hata}{d z_j(t+1)} \\frac{d z_j(t+1)}{d z_i(t)}\n",
    "= \n",
    "\\sum_j \\Delta_j(t+1) \\frac{d z_j(t+1)}{d z_i(t)}\n",
    "$$\n",
    "\n",
    "\n",
    "Unutmayın ki, $(t)$'inci katmandaki nöron $i$'ye ait bir hata\n",
    "$(t+1)$'inci katmandaki tüm $j$ nöronlarını etkiler. Sonuç olarak,\n",
    "\n",
    "> \n",
    "$$\n",
    "\\Delta_i(t) =\n",
    "\\sum_j \\Delta_j(t+1) w_{j,i}(t+1) \\times \\sigma'(z_i(t))\n",
    "$$\n",
    "\n",
    "$(t+1)$'inci katmandan $(t)$'inci katmana hatanın akışını vektörize edersek,\n",
    "\n",
    "$$\n",
    "\\Delta(t) =  w^T(t+1) \\cdot  \\Delta(t+1) \\times \\sigma'(z(t))\n",
    "$$\n",
    "\n",
    "![back2.jpg](back2.jpg)"
   ]
  },
  {
   "cell_type": "markdown",
   "metadata": {},
   "source": [
    "### Nöronlardaki hatanın güncellenmesi\n",
    "\n",
    "Çıktı katmanında\n",
    "$$\n",
    "\\Delta(T) = \\frac{d Hata}{d z(T)} = (a(T)-y) \\sigma'(z(T))\n",
    "$$\n",
    "\n",
    "$(t+1)$'inci ara katmandan $(t)$'inci ara katmana hatanın akışı,\n",
    "\n",
    "$$\n",
    "\\Delta(t) =  w^T(t+1) \\cdot  \\Delta(t+1) \\times \\sigma'(z(t))\n",
    "$$\n",
    "\n",
    "### Ağırlık ve bias değerlerinin güncellenmesi\n",
    "\n",
    "Hatayı minimize eden en iyi parametreleri arıyoruz.\n",
    "\n",
    "Ağırlıktaki değişim\n",
    "$$\n",
    "\\frac{d Hata}{d w_{ji}(t)} = \\frac{d Hata}{d z_{j}(t)} \\frac{d z_{j}(t)}{d w_{ji}(t)} \n",
    "= \\Delta_{j}(t)  a_i(t-1)\n",
    "$$\n",
    "\n",
    "Biasdeki değişim\n",
    "$$\n",
    "\\frac{d Hata}{d b_{j}(t)} = \\frac{d Hata}{d z_{j}(t)} \\frac{d z_{j}(t)}{d b_{j}(t)} \n",
    "= \\Delta_{j}(t) \n",
    "$$\n",
    "\n",
    "Geri Besleme algoritması neden hızlıdır?\n",
    "\n",
    "> Dikkat ederseniz $\\Delta_{j}(t)$ değerini sadece bir kez hesaplayıp, yeniden hesaplamadan bir çok yerde (Ağırlıktaki ve Biasdeki değişimde) tekrar tekrar kullanıyoruz. Bu bize hız kazandırıyor.\n",
    "\n",
    "![back3.jpg](back3.jpg)"
   ]
  },
  {
   "cell_type": "code",
   "execution_count": 15,
   "metadata": {
    "collapsed": true
   },
   "outputs": [],
   "source": [
    "def geribesleme(x,y, agirlik, bias): #girdi, cikti\n",
    "    delta_b = [np.zeros(b.shape) for b in bias]\n",
    "    delta_w = [np.zeros(w.shape) for w in agirlik]\n",
    "    \n",
    "    a = x\n",
    "    A = [a] # a degerleri\n",
    "    Z = []  # z degerleri\n",
    "    for w, b in zip(agirlik, bias):# z ve a degerlerini depolayalim\n",
    "        z = np.dot(w, a) + b\n",
    "        a = sigmoid(z)\n",
    "        Z.append(z)\n",
    "        A.append(a)\n",
    "    \n",
    "    hata = A[-1] - y # en son katmandaki hata\n",
    "    delta = hata * sigmoid_turevi(Z[-1])\n",
    "    delta_b[-1] = delta\n",
    "    delta_w[-1] = np.dot(delta, A[-2].T)\n",
    "    for k in range(2, len(katmanlar)):\n",
    "        delta = np.dot(agirlik[-k+1].T, delta) * sigmoid_turevi(Z[-k])\n",
    "        delta_b[-k] = delta\n",
    "        delta_w[-k] = np.dot(delta, A[-k-1].T)\n",
    "    return (delta_b, delta_w)  "
   ]
  },
  {
   "cell_type": "code",
   "execution_count": 16,
   "metadata": {
    "collapsed": true
   },
   "outputs": [],
   "source": [
    "def gradyan_inis(orneklem, adim, agirlik, bias):\n",
    "    delta_b = [np.zeros(b.shape) for b in bias]\n",
    "    delta_w = [np.zeros(w.shape) for w in agirlik]\n",
    "    \n",
    "    for x, y in orneklem:\n",
    "        # geri besleme tek bir x-y cifti icin w-b parametrelerinde degisimi verir\n",
    "        delta_bxy, delta_wxy = geribesleme(x, y, agirlik, bias)\n",
    "        # orneklemdeki farkli x-y ciftleri icin w-b degisimleri toplanir\n",
    "        delta_b = [nb+dnb for nb, dnb in zip(delta_b, delta_bxy)]\n",
    "        delta_w = [nw+dnw for nw, dnw in zip(delta_w, delta_wxy)]\n",
    "    \n",
    "    # w-b parametreleri turevlerinin tersi yonde guncelleniyor (gradyan_inis)    \n",
    "    agirlik = [w-(adim/len(orneklem))*nw for w, nw in zip(agirlik, delta_w)]\n",
    "    bias = [b-(adim/len(orneklem))*nb for b, nb in zip(bias, delta_b)]\n",
    "    return agirlik, bias"
   ]
  },
  {
   "cell_type": "code",
   "execution_count": 17,
   "metadata": {
    "collapsed": true
   },
   "outputs": [],
   "source": [
    "def ogrenme(veri, agirlik, bias, epochs = 30, sayi = 10, adim = 0.5, test_data=None):\n",
    "    \"\"\" epochs: kac kez tum veri kullaniacak\n",
    "        icinde sayi kadar ornek bulunan orneklemler(mini-batch)\n",
    "        gradyan-iniste kullaniliyor. Agirlik ve bias degerleri guncelleniyor.\n",
    "        Ogrenme:\n",
    "            en iyi Agirlik ve bias degerelerini bulmak\n",
    "    \"\"\"\n",
    "    veri = list(veri)\n",
    "    n = len(veri)\n",
    "\n",
    "    if test_data:\n",
    "        test_data = list(test_data)\n",
    "        n_test = len(test_data)\n",
    "\n",
    "    for j in range(epochs):\n",
    "        random.shuffle(veri)\n",
    "        for orneklem in [veri[k:k+sayi] for k in range(0, n, sayi)]:\n",
    "            w, b = gradyan_inis(orneklem, adim, agirlik, bias)\n",
    "        if test_data:\n",
    "            print(\"Epoch {} : {} / {}\".format(j, tahmin(test_data, w, b), n_test));\n",
    "        else:\n",
    "            print(\"Epoch {} complete\".format(j))\n",
    "    return agirlik, bias"
   ]
  },
  {
   "cell_type": "code",
   "execution_count": 18,
   "metadata": {
    "collapsed": true
   },
   "outputs": [],
   "source": [
    "def tahmin(test_data, agirlik, bias):\n",
    "    \"\"\"Return the number of test inputs for which the neural\n",
    "    network outputs the correct result. Note that the neural\n",
    "    network's output is assumed to be the index of whichever\n",
    "    neuron in the final layer has the highest activation.\"\"\"\n",
    "    test_results = [(np.argmax(ileribesleme(x, agirlik, bias)), y) for (x, y) in test_data]\n",
    "    return sum(int(x == y) for (x, y) in test_results)"
   ]
  },
  {
   "cell_type": "markdown",
   "metadata": {},
   "source": [
    "## Calisma\n"
   ]
  },
  {
   "cell_type": "code",
   "execution_count": 19,
   "metadata": {
    "collapsed": true
   },
   "outputs": [],
   "source": [
    "W = np.array([[1,1,1],[0,0,0]])"
   ]
  },
  {
   "cell_type": "code",
   "execution_count": 20,
   "metadata": {},
   "outputs": [
    {
     "name": "stdout",
     "output_type": "stream",
     "text": [
      "[1 2 3]\n",
      "(3,)\n"
     ]
    }
   ],
   "source": [
    "x = np.array([1,2,3])\n",
    "print(x.T)\n",
    "print(np.shape(x.T))"
   ]
  },
  {
   "cell_type": "code",
   "execution_count": 21,
   "metadata": {},
   "outputs": [
    {
     "name": "stdout",
     "output_type": "stream",
     "text": [
      "[6 0]\n"
     ]
    }
   ],
   "source": [
    "print(np.dot(W,x))"
   ]
  },
  {
   "cell_type": "code",
   "execution_count": 22,
   "metadata": {},
   "outputs": [
    {
     "name": "stdout",
     "output_type": "stream",
     "text": [
      "[[1]\n",
      " [2]\n",
      " [3]]\n",
      "(3, 1)\n"
     ]
    }
   ],
   "source": [
    "x = np.array([[1],[2],[3]])\n",
    "print(x)\n",
    "print(np.shape(x))"
   ]
  },
  {
   "cell_type": "code",
   "execution_count": 23,
   "metadata": {},
   "outputs": [
    {
     "name": "stdout",
     "output_type": "stream",
     "text": [
      "[[6]\n",
      " [0]]\n"
     ]
    }
   ],
   "source": [
    "print(np.dot(W,x))"
   ]
  },
  {
   "cell_type": "code",
   "execution_count": null,
   "metadata": {
    "collapsed": true
   },
   "outputs": [],
   "source": []
  },
  {
   "cell_type": "code",
   "execution_count": 24,
   "metadata": {},
   "outputs": [
    {
     "data": {
      "text/plain": [
       "[array([[1],\n",
       "        [7]]), array([[6],\n",
       "        [1]]), array([[1],\n",
       "        [1]]), array([[3],\n",
       "        [5]]), array([[4],\n",
       "        [4]])]"
      ]
     },
     "execution_count": 24,
     "metadata": {},
     "output_type": "execute_result"
    }
   ],
   "source": [
    "X = np.random.randint(10, size=(5,2))\n",
    "training_inputs = [np.reshape(x, (2, 1)) for x in X]\n",
    "training_inputs"
   ]
  },
  {
   "cell_type": "code",
   "execution_count": 25,
   "metadata": {},
   "outputs": [
    {
     "data": {
      "text/plain": [
       "array([[1],\n",
       "       [7]])"
      ]
     },
     "execution_count": 25,
     "metadata": {},
     "output_type": "execute_result"
    }
   ],
   "source": [
    "training_inputs[0]"
   ]
  },
  {
   "cell_type": "code",
   "execution_count": 26,
   "metadata": {},
   "outputs": [
    {
     "data": {
      "text/plain": [
       "numpy.ndarray"
      ]
     },
     "execution_count": 26,
     "metadata": {},
     "output_type": "execute_result"
    }
   ],
   "source": [
    "type(training_inputs[0])"
   ]
  },
  {
   "cell_type": "code",
   "execution_count": 27,
   "metadata": {},
   "outputs": [
    {
     "data": {
      "text/plain": [
       "[array([[1],\n",
       "        [7]]), array([[6],\n",
       "        [1]]), array([[1],\n",
       "        [1]])]"
      ]
     },
     "execution_count": 27,
     "metadata": {},
     "output_type": "execute_result"
    }
   ],
   "source": [
    "training_inputs[0:3]"
   ]
  },
  {
   "cell_type": "code",
   "execution_count": 28,
   "metadata": {},
   "outputs": [
    {
     "name": "stdout",
     "output_type": "stream",
     "text": [
      "[[ 1.11348497  0.37075934]\n",
      " [ 0.7064772  -0.77360734]\n",
      " [-1.15527239 -0.03958316]\n",
      " [ 0.63462852 -1.01077829]\n",
      " [-0.40835769  0.14636679]]\n"
     ]
    }
   ],
   "source": [
    "# 1 ile 10 arasinda 100000 adet x1 ve x2\n",
    "X = np.random.randn(100000,2)\n",
    "print(X[1:6,])"
   ]
  },
  {
   "cell_type": "code",
   "execution_count": 29,
   "metadata": {},
   "outputs": [
    {
     "name": "stdout",
     "output_type": "stream",
     "text": [
      "[1 1 0 1 0]\n"
     ]
    }
   ],
   "source": [
    "# ilk kolon ikinci kolondan buyukse, y=1\n",
    "y = (X[:,0] > X[:,1]) * 1\n",
    "print(y[1:6,])"
   ]
  },
  {
   "cell_type": "code",
   "execution_count": 30,
   "metadata": {
    "collapsed": true
   },
   "outputs": [],
   "source": [
    "training_inputs = [np.reshape(x, (2, 1)) for x in X]"
   ]
  },
  {
   "cell_type": "code",
   "execution_count": 31,
   "metadata": {},
   "outputs": [
    {
     "name": "stdout",
     "output_type": "stream",
     "text": [
      "<zip object at 0x109ec2cc8>\n"
     ]
    }
   ],
   "source": [
    "veri = zip(training_inputs,y)\n",
    "print(veri)"
   ]
  },
  {
   "cell_type": "code",
   "execution_count": 32,
   "metadata": {
    "collapsed": true
   },
   "outputs": [],
   "source": [
    "X = np.random.randint(2, size=(100,2))\n",
    "y = (X[:,0] > X[:,1]) * 1\n",
    "test_inputs = [np.reshape(x, (2, 1)) for x in X]\n",
    "test_verisi = zip(test_inputs,y)"
   ]
  },
  {
   "cell_type": "code",
   "execution_count": 33,
   "metadata": {},
   "outputs": [
    {
     "name": "stdout",
     "output_type": "stream",
     "text": [
      "Epoch 0 : 82 / 100\n",
      "Epoch 1 : 82 / 100\n",
      "Epoch 2 : 82 / 100\n"
     ]
    }
   ],
   "source": [
    "katmanlar = [2, 10, 1]\n",
    "agirlik, bias = ag(katmanlar)\n",
    "agirlik, bias = ogrenme(veri, agirlik, bias, epochs = 3, test_data=test_verisi)"
   ]
  },
  {
   "cell_type": "code",
   "execution_count": 34,
   "metadata": {},
   "outputs": [
    {
     "data": {
      "text/plain": [
       "([array([[ 0.69459126, -0.52302361],\n",
       "         [-1.17296117, -0.17584207],\n",
       "         [ 0.91410313, -0.29933593],\n",
       "         [ 1.94146178, -0.22967973],\n",
       "         [ 0.15696648, -0.99325453],\n",
       "         [ 1.32336676, -0.4239583 ],\n",
       "         [ 0.76990703,  2.03579592],\n",
       "         [ 0.35531518, -0.74697272],\n",
       "         [-2.590565  ,  0.76810902],\n",
       "         [ 1.49240001,  0.56679468]]),\n",
       "  array([[ 1.02051169, -0.41551133,  0.55757608,  2.04352833,  0.88506071,\n",
       "           0.22067377,  0.10903717, -0.08226702,  0.73581135, -1.75391618]])],\n",
       " [array([[ 0.09148978],\n",
       "         [-0.07811137],\n",
       "         [-0.32434815],\n",
       "         [ 1.98705688],\n",
       "         [ 0.16368706],\n",
       "         [ 1.42040603],\n",
       "         [-0.47219831],\n",
       "         [ 0.98876618],\n",
       "         [-0.0777914 ],\n",
       "         [ 0.29500724]]), array([[-0.43546256]])])"
      ]
     },
     "execution_count": 34,
     "metadata": {},
     "output_type": "execute_result"
    }
   ],
   "source": [
    "agirlik, bias"
   ]
  },
  {
   "cell_type": "code",
   "execution_count": 35,
   "metadata": {},
   "outputs": [
    {
     "name": "stdout",
     "output_type": "stream",
     "text": [
      "[[ 0.9284015]]\n"
     ]
    }
   ],
   "source": [
    "girdi = [[100],[10]]\n",
    "print(ileribesleme(girdi, agirlik, bias))"
   ]
  },
  {
   "cell_type": "code",
   "execution_count": null,
   "metadata": {},
   "outputs": [],
   "source": [
    "girdi = [[10],[1000]]\n",
    "print(ileribesleme(girdi, agirlik, bias))"
   ]
  },
  {
   "cell_type": "code",
   "execution_count": 37,
   "metadata": {
    "collapsed": true
   },
   "outputs": [],
   "source": [
    "import mnist_loader\n",
    "training_data, validation_data, test_data = mnist_loader.load_data_wrapper()\n",
    "training_data = list(training_data)"
   ]
  },
  {
   "cell_type": "code",
   "execution_count": 38,
   "metadata": {},
   "outputs": [
    {
     "data": {
      "text/plain": [
       "(1, 2)"
      ]
     },
     "execution_count": 38,
     "metadata": {},
     "output_type": "execute_result"
    }
   ],
   "source": [
    "t = training_data[1:2]\n",
    "np.shape(training_data[1:2])\n",
    "#print(training_data)\n"
   ]
  },
  {
   "cell_type": "code",
   "execution_count": null,
   "metadata": {
    "collapsed": true
   },
   "outputs": [],
   "source": [
    "katmanlar = [784, 30, 10]\n",
    "agirlik, bias = ag(katmanlar)"
   ]
  },
  {
   "cell_type": "code",
   "execution_count": null,
   "metadata": {},
   "outputs": [
    {
     "name": "stdout",
     "output_type": "stream",
     "text": [
      "Epoch 0 : 941 / 10000\n"
     ]
    }
   ],
   "source": [
    "ogrenme(training_data, agirlik, bias, 3, 10, 3.0, test_data=test_data)"
   ]
  },
  {
   "cell_type": "code",
   "execution_count": null,
   "metadata": {
    "collapsed": true
   },
   "outputs": [],
   "source": [
    "agirlik, bias = gradyan_inis(training_data[1:10],adim = 0.5, agirlik = agirlik, bias = bias)"
   ]
  },
  {
   "cell_type": "code",
   "execution_count": null,
   "metadata": {},
   "outputs": [],
   "source": [
    "agirlik, bias"
   ]
  },
  {
   "cell_type": "code",
   "execution_count": null,
   "metadata": {
    "collapsed": true
   },
   "outputs": [],
   "source": []
  }
 ],
 "metadata": {
  "kernelspec": {
   "display_name": "Python 3",
   "language": "python",
   "name": "python3"
  },
  "language_info": {
   "codemirror_mode": {
    "name": "ipython",
    "version": 3
   },
   "file_extension": ".py",
   "mimetype": "text/x-python",
   "name": "python",
   "nbconvert_exporter": "python",
   "pygments_lexer": "ipython3",
   "version": "3.6.1"
  }
 },
 "nbformat": 4,
 "nbformat_minor": 2
}
