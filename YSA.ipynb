{
 "cells": [
  {
   "cell_type": "markdown",
   "metadata": {},
   "source": [
    "# Yapay Sinir Ağları\n",
    "\n",
    "Bu yazıyı ve kodları hazırlarken, Michael Nielson'ın açık kaynak Neural Networks and Deep Learning adlı [kitabından](http://neuralnetworksanddeeplearning.com) yararlandım.\n"
   ]
  },
  {
   "cell_type": "markdown",
   "metadata": {},
   "source": [
    "### Numpy hatırlayalım"
   ]
  },
  {
   "cell_type": "code",
   "execution_count": 1,
   "metadata": {
    "collapsed": true
   },
   "outputs": [],
   "source": [
    "import random\n",
    "import numpy as np"
   ]
  },
  {
   "cell_type": "markdown",
   "metadata": {},
   "source": [
    "![](NumPy.png)"
   ]
  },
  {
   "cell_type": "code",
   "execution_count": 2,
   "metadata": {},
   "outputs": [
    {
     "name": "stdout",
     "output_type": "stream",
     "text": [
      "(3, 2)\n",
      "(2, 1)\n",
      "[[1]\n",
      " [2]\n",
      " [3]]\n"
     ]
    }
   ],
   "source": [
    "e = np.array([[1,1],\n",
    "              [2,2],\n",
    "              [3,3,]])\n",
    "f = np.array([[1],\n",
    "              [0]])\n",
    "\n",
    "print(np.shape(e))\n",
    "print(np.shape(f))\n",
    "print(e.dot(f))"
   ]
  },
  {
   "cell_type": "code",
   "execution_count": 3,
   "metadata": {},
   "outputs": [
    {
     "name": "stdout",
     "output_type": "stream",
     "text": [
      "[[1 1]\n",
      " [2 2]\n",
      " [3 3]] \n",
      "\n",
      "[[1 2 3]\n",
      " [1 2 3]] \n",
      "\n"
     ]
    }
   ],
   "source": [
    "print(e,\"\\n\")\n",
    "print(e.T,\"\\n\")"
   ]
  },
  {
   "cell_type": "code",
   "execution_count": 4,
   "metadata": {},
   "outputs": [
    {
     "name": "stdout",
     "output_type": "stream",
     "text": [
      "[1 1] [1 2 3]\n",
      "[2 2] [1 2 3]\n"
     ]
    }
   ],
   "source": [
    "for a, b in zip(e, e.T):\n",
    "    print(a,b)"
   ]
  },
  {
   "cell_type": "code",
   "execution_count": 5,
   "metadata": {},
   "outputs": [
    {
     "name": "stdout",
     "output_type": "stream",
     "text": [
      "[1 2 3]\n"
     ]
    }
   ],
   "source": [
    "dVeri = np.array([1,2,3])\n",
    "def dFonk():\n",
    "    dVeri = 2 * dVeri\n",
    "print(dVeri)"
   ]
  },
  {
   "cell_type": "code",
   "execution_count": 6,
   "metadata": {},
   "outputs": [
    {
     "name": "stdout",
     "output_type": "stream",
     "text": [
      "[2 4 6]\n"
     ]
    }
   ],
   "source": [
    "dVeri = 2 * dVeri\n",
    "print(dVeri)"
   ]
  },
  {
   "cell_type": "code",
   "execution_count": 7,
   "metadata": {},
   "outputs": [
    {
     "name": "stdout",
     "output_type": "stream",
     "text": [
      "1 a\n",
      "3 b\n",
      "5 x\n",
      "7 y\n"
     ]
    }
   ],
   "source": [
    "A = [1,3,5,7]\n",
    "B = [\"a\",\"b\",\"x\",\"y\"]\n",
    "for a,b in zip(A,B):\n",
    "    print(a,b)"
   ]
  },
  {
   "cell_type": "markdown",
   "metadata": {},
   "source": [
    "#### Yardimci Fonksiyonlar\n",
    "\n",
    "Sıgmoid fonksiyonu bir nöronun gelen toplam girdiyi, 0 ile 1 arasında bie çıktı değerine dönüştürür. Bu fonksiyonun türevi, kendisi ile 1den cıkarılmış halinin çarpınıma eşittir."
   ]
  },
  {
   "cell_type": "code",
   "execution_count": 8,
   "metadata": {
    "collapsed": true
   },
   "outputs": [],
   "source": [
    "#### Yardimci Fonksiyonlar\n",
    "def sigmoid(z):\n",
    "    return 1.0/(1.0+np.exp(-z))\n",
    "def sigmoid_turevi(z):\n",
    "    return sigmoid(z)*(1-sigmoid(z))"
   ]
  },
  {
   "cell_type": "markdown",
   "metadata": {},
   "source": [
    "### Ağı oluşturalım\n",
    "Her bir katmanda kaç sinir hücresi olacağını bir listeden alarak, ağı oluşturan bir fonksiyon yazalım."
   ]
  },
  {
   "cell_type": "code",
   "execution_count": 9,
   "metadata": {
    "collapsed": true
   },
   "outputs": [],
   "source": [
    "def ag(katmanlar):\n",
    "    b = [np.random.randn(k, 1) for k in katmanlar[1:]] # bias degerleri (ilk katman haric)\n",
    "    W = [np.random.randn(k2, k1) for k1, k2 in zip(katmanlar[:-1],katmanlar[1:])]\n",
    "    return W, b"
   ]
  },
  {
   "cell_type": "markdown",
   "metadata": {},
   "source": [
    "#### Örnek bir ağ"
   ]
  },
  {
   "cell_type": "code",
   "execution_count": 10,
   "metadata": {},
   "outputs": [
    {
     "name": "stdout",
     "output_type": "stream",
     "text": [
      "agirlik :\n",
      "[[ 0.29721865 -1.68722801 -1.19931727]\n",
      " [ 1.72890017 -0.7413104   0.13642544]\n",
      " [ 0.76087426  2.03055655 -1.21882981]\n",
      " [-0.92991474  0.94758249 -0.88114933]] \n",
      "\n",
      "[[ 0.06045751 -0.95326098 -1.16823026 -1.20507253]\n",
      " [ 0.76818146 -1.60266147  1.87936828 -1.36899306]] \n",
      "\n",
      "bias :\n",
      "[[ 0.90691754]\n",
      " [-0.07374428]\n",
      " [-1.76147276]\n",
      " [-1.04148146]] \n",
      "\n",
      "[[ 0.99398613]\n",
      " [ 2.08639626]] \n",
      "\n"
     ]
    }
   ],
   "source": [
    "katmanlar = [3, 4, 2]\n",
    "agirlik, bias = ag(katmanlar)\n",
    "\n",
    "print(\"agirlik :\")\n",
    "for w in agirlik:\n",
    "    print(w, \"\\n\")\n",
    "    \n",
    "print(\"bias :\")\n",
    "for b in bias:\n",
    "    print(b, \"\\n\")"
   ]
  },
  {
   "cell_type": "markdown",
   "metadata": {},
   "source": [
    "### İleri Besleme\n",
    "\n",
    "![network.jpg](network.jpg)\n"
   ]
  },
  {
   "cell_type": "markdown",
   "metadata": {},
   "source": [
    "![noronislem.JPG](noronislem.JPG)\n",
    "\n",
    "\n",
    "Yukarıdaki yapay sinir ağı, 3 katmandan oluşmaktadır.\n",
    "\n",
    "> Birinci katman, girdi olarak $x_1$, $x_2$, $x_3$ verisini alir. \n",
    "\n",
    "ilk katmana özel olarak $a_i(1) = z_i(1) = x_i$dir. \n",
    "\n",
    "> Daha sonraki katmanlardaki nöronlar, bir önceki katmanın ağırlıklı toplamını girdi olarak kabul eder.\n",
    "\n",
    "\n",
    "\n",
    "Genel olarak,\n",
    "\n",
    "> $z_j(t) = \\sum_i w_{j,i}(t) \\times a_i(t-1) + b_j(t)$\n",
    "\n",
    "mesela  $z_4(2) = w_{4,1}(2) \\times a_1(1) + w_{4,2}(2) \\times a_2(1) + w_{4,3}(2) \\times a_3(1) + b_4(2)$dir.\n",
    "\n",
    "> $w_{j,i}(t)$: $\\hspace{1cm}$ $(t-1)$'inci katmandaki $i$'nci nörondan $(t)$'inci katmandaki $j$nci nörona olan bağlantının ağırlık değeridir.\n",
    "\n",
    "Aynı şekilde\n",
    "\n",
    "> $b_{j}(t)$: $\\hspace{1cm}$ $(t)$'inci katmandaki $j$'nci nörona ait bias değeridir\n",
    "\n",
    "Bir nöronun çıktısı, sigmoid fonksiyonuna net girdi değeri verilerek hesaplanır.\n",
    "\n",
    "> $a_j(t) = \\sigma(z_j(t)) = \\frac{1}{1 + e^{z_j(t)}}$\n",
    "\n",
    "\n",
    "#### İleri Besleme Algoritması\n",
    "\n",
    "Ağımız verilen girdi x ve ağırlık w, bias b değerlerine göre bir çıktı üretir. Vektörize edilerek yapılan işlem\n",
    "\n",
    "> $z(t) = w(t) \\cdot a(t-1) + b(t)$\n",
    "\n",
    "> $a(t) = \\sigma(z(t))$\n",
    "\n",
    "Her bir katmandaki nöronlar, önceki katmanlardaki nöron çıktılarını ağırlıklarıyla çarpıp son olarak bias(çapa ya da referans) değeri ekleyerek net girdi olan $z$ değerini bulurlar. Sonraki işlem ise, sigmoid ile çıktı değerini hesaplamaktır.\n",
    "\n",
    "\n",
    "![vektorize.jpg](vektorize.jpg)"
   ]
  },
  {
   "cell_type": "code",
   "execution_count": 11,
   "metadata": {
    "collapsed": true
   },
   "outputs": [],
   "source": [
    "def ileribesleme(a, agirlik, bias):\n",
    "    \"\"\"Katman katman yeni a degerleri hesaplaniyor\"\"\"\n",
    "    for w, b in zip(agirlik, bias):\n",
    "        z = np.dot(w, a)+b\n",
    "        a = sigmoid(z)\n",
    "    return a"
   ]
  },
  {
   "cell_type": "code",
   "execution_count": 12,
   "metadata": {
    "collapsed": true
   },
   "outputs": [],
   "source": [
    "katmanlar = [2, 3, 1]\n",
    "agirlik, bias = ag(katmanlar)\n",
    "\n",
    "#girdi = [(0,0)]\n",
    "#print(ileribesleme(girdi, agirlik, bias))"
   ]
  },
  {
   "cell_type": "code",
   "execution_count": 13,
   "metadata": {},
   "outputs": [
    {
     "name": "stdout",
     "output_type": "stream",
     "text": [
      "a: [[0]\n",
      " [0]] \n",
      "\n",
      "w: [[-0.85882301  0.16919212]\n",
      " [ 0.20681862  0.16358916]\n",
      " [ 2.0653042  -2.11029037]] \n",
      "\n",
      "b: [[-1.06762571]\n",
      " [-0.03983092]\n",
      " [-0.93356285]] \n",
      "\n",
      "Sonuc a: [[ 0.25585487]\n",
      " [ 0.49004359]\n",
      " [ 0.28220245]] \n",
      "\n",
      "a: [[ 0.25585487]\n",
      " [ 0.49004359]\n",
      " [ 0.28220245]] \n",
      "\n",
      "w: [[ 1.30604392  0.66338842 -0.13118192]] \n",
      "\n",
      "b: [[-0.36150485]] \n",
      "\n",
      "Sonuc a: [[ 0.56481382]] \n",
      "\n"
     ]
    }
   ],
   "source": [
    "a = np.reshape([0,0], (2, 1))\n",
    "for w, b in zip(agirlik, bias):\n",
    "    print(\"a:\", a, \"\\n\")\n",
    "    print(\"w:\", w, \"\\n\")\n",
    "    print(\"b:\", b, \"\\n\")\n",
    "    a = sigmoid(np.dot(w, a)+b)\n",
    "    print(\"Sonuc a:\", a, \"\\n\")\n",
    "    "
   ]
  },
  {
   "cell_type": "code",
   "execution_count": 14,
   "metadata": {},
   "outputs": [
    {
     "name": "stdout",
     "output_type": "stream",
     "text": [
      "[[ 0.56481382]]\n"
     ]
    }
   ],
   "source": [
    "girdi = np.reshape([0,0], (2, 1))\n",
    "print(ileribesleme(girdi, agirlik, bias))"
   ]
  },
  {
   "cell_type": "markdown",
   "metadata": {},
   "source": [
    "### Yardımcı Türevler\n",
    "\n",
    "İleri Besleme algortimasına bakarak şu türevleri bulalım, bunlar bize geri besleme algoritmasında yardımcı olacak\n",
    "\n",
    "> \n",
    "$$\n",
    "\\frac{d z_j(t+1)}{d z_i(t)} = \n",
    "\\frac{ d (\\sum_i w_{j,i}(t+1) \\times \\sigma(z_i(t)) + b_j(t+1))}{d z_i(t)}\n",
    "=\n",
    "w_{j,i}(t+1) \\times \\sigma'(z_i(t))\n",
    "$$\n",
    "\n",
    "![back1.jpg](back1.jpg)"
   ]
  },
  {
   "cell_type": "markdown",
   "metadata": {},
   "source": [
    "### Geri Besleme\n",
    "\n",
    "Geri besleme algoritmasındaki kilit nokta,\n",
    "bir nöronun ait girdideki değişim, hatayı nasıl etkiler sorusudur.\n",
    "\n",
    "\n",
    "$$\n",
    "\\Delta_j(t) =\n",
    "\\frac{d Hata}{d z_j(t)}\n",
    "$$\n",
    "\n",
    "Bu soruya vereceğimiz cevap ile, ağırlık ve bias değerlerini hatayı minimize edecek şekilde nasıl güncelleyeceğimizi bulacağız. Ve tabi gene gradyan iniş yöntemini kullanacağız.\n",
    "\n",
    "$$Hata = \\frac{1}{2} \\sum_j (y_j - a_j(T))^2$$\n",
    "\n",
    "$T$ ağdaki çıktı katmanıdır. Bu durumda çıktı katmanındaki j'inci nöronun hataya etkisi\n",
    "\n",
    "$$\n",
    "\\Delta_j(T) =\n",
    "\\frac{d Hata}{d z_j(T)} = \\frac{d Hata}{d a_j(T)} \\frac{d a_j(T)}{d z_j(T)}\n",
    "= (a_j(T)-y_j ) \\frac{d a_j(T)}{d z_j(T)}\n",
    "= (a_j(T)-y_j ) \\sigma'(z_j(T))\n",
    "$$ \n",
    "\n",
    "Çıktı katmanındaki tüm nöronların hataya olan etkisini vektörize edersek\n",
    "\n",
    "> \n",
    "$$\n",
    "\\Delta(T) = \\frac{d Hata}{d z(T)} = (a(T)-y) \\sigma'(z(T))\n",
    "$$\n",
    "\n",
    "Dikkat ederseniz, vektörize ettiğimizde indislerden kurtuluyoruz. Peki bir ara katmandan, önceki ara katmana hata nasıl yayılır?\n",
    "\n",
    "> \n",
    "$$\n",
    "\\Delta_i(t) =\n",
    "\\frac{d Hata}{d z_i(t)} \n",
    "= \n",
    "\\sum_j \\frac{d Hata}{d z_j(t+1)} \\frac{d z_j(t+1)}{d z_i(t)}\n",
    "= \n",
    "\\sum_j \\Delta_j(t+1) \\frac{d z_j(t+1)}{d z_i(t)}\n",
    "$$\n",
    "\n",
    "\n",
    "Unutmayın ki, $(t)$'inci katmandaki nöron $i$'ye ait bir hata\n",
    "$(t+1)$'inci katmandaki tüm $j$ nöronlarını etkiler. Sonuç olarak,\n",
    "\n",
    "> \n",
    "$$\n",
    "\\Delta_i(t) =\n",
    "\\sum_j \\Delta_j(t+1) w_{j,i}(t+1) \\times \\sigma'(z_i(t))\n",
    "$$\n",
    "\n",
    "$(t+1)$'inci katmandan $(t)$'inci katmana hatanın akışını vektörize edersek,\n",
    "\n",
    "$$\n",
    "\\Delta(t) =  w^T(t+1) \\cdot  \\Delta(t+1) \\times \\sigma'(z(t))\n",
    "$$\n",
    "\n",
    "![back2.jpg](back2.jpg)"
   ]
  },
  {
   "cell_type": "markdown",
   "metadata": {},
   "source": [
    "### Nöronlardaki hatanın güncellenmesi\n",
    "\n",
    "Çıktı katmanında\n",
    "$$\n",
    "\\Delta(T) = \\frac{d Hata}{d z(T)} = (a(T)-y) \\sigma'(z(T))\n",
    "$$\n",
    "\n",
    "$(t+1)$'inci ara katmandan $(t)$'inci ara katmana hatanın akışı,\n",
    "\n",
    "$$\n",
    "\\Delta(t) =  w^T(t+1) \\cdot  \\Delta(t+1) \\times \\sigma'(z(t))\n",
    "$$\n",
    "\n",
    "### Ağırlık ve bias değerlerinin güncellenmesi\n",
    "\n",
    "Hatayı minimize eden en iyi parametreleri arıyoruz.\n",
    "\n",
    "Ağırlıktaki değişim\n",
    "$$\n",
    "\\frac{d Hata}{d w_{ji}(t)} = \\frac{d Hata}{d z_{j}(t)} \\frac{d z_{j}(t)}{d w_{ji}(t)} \n",
    "= \\Delta_{j}(t)  a_i(t-1)\n",
    "$$\n",
    "\n",
    "Biasdeki değişim\n",
    "$$\n",
    "\\frac{d Hata}{d b_{j}(t)} = \\frac{d Hata}{d z_{j}(t)} \\frac{d z_{j}(t)}{d b_{j}(t)} \n",
    "= \\Delta_{j}(t) \n",
    "$$\n",
    "\n",
    "Geri Besleme algoritması neden hızlıdır?\n",
    "\n",
    "> Dikkat ederseniz $\\Delta_{j}(t)$ değerini sadece bir kez hesaplayıp, yeniden hesaplamadan bir çok yerde (Ağırlıktaki ve Biasdeki değişimde) tekrar tekrar kullanıyoruz. Bu bize hız kazandırıyor.\n",
    "\n",
    "![back3.jpg](back3.jpg)"
   ]
  },
  {
   "cell_type": "code",
   "execution_count": 15,
   "metadata": {
    "collapsed": true
   },
   "outputs": [],
   "source": [
    "def geribesleme(x,y, agirlik, bias): #girdi, cikti\n",
    "    delta_b = [np.zeros(b.shape) for b in bias]\n",
    "    delta_w = [np.zeros(w.shape) for w in agirlik]\n",
    "    \n",
    "    a = x\n",
    "    A = [a] # a degerleri\n",
    "    Z = []  # z degerleri\n",
    "    for w, b in zip(agirlik, bias):# z ve a degerlerini depolayalim\n",
    "        z = np.dot(w, a) + b\n",
    "        a = sigmoid(z)\n",
    "        Z.append(z)\n",
    "        A.append(a)\n",
    "    \n",
    "    hata = A[-1] - y # en son katmandaki hata\n",
    "    delta = hata * sigmoid_turevi(Z[-1])\n",
    "    delta_b[-1] = delta\n",
    "    delta_w[-1] = np.dot(delta, A[-2].T)\n",
    "    for k in range(2, len(katmanlar)):\n",
    "        delta = np.dot(agirlik[-k+1].T, delta) * sigmoid_turevi(Z[-k])\n",
    "        delta_b[-k] = delta\n",
    "        delta_w[-k] = np.dot(delta, A[-k-1].T)\n",
    "    return (delta_b, delta_w)  "
   ]
  },
  {
   "cell_type": "code",
   "execution_count": 16,
   "metadata": {
    "collapsed": true
   },
   "outputs": [],
   "source": [
    "def gradyan_inis(orneklem, adim, agirlik, bias):\n",
    "    delta_b = [np.zeros(b.shape) for b in bias]\n",
    "    delta_w = [np.zeros(w.shape) for w in agirlik]\n",
    "    \n",
    "    for x, y in orneklem:\n",
    "        # geri besleme tek bir x-y cifti icin w-b parametrelerinde degisimi verir\n",
    "        delta_bxy, delta_wxy = geribesleme(x, y, agirlik, bias)\n",
    "        # orneklemdeki farkli x-y ciftleri icin w-b degisimleri toplanir\n",
    "        delta_b = [nb+dnb for nb, dnb in zip(delta_b, delta_bxy)]\n",
    "        delta_w = [nw+dnw for nw, dnw in zip(delta_w, delta_wxy)]\n",
    "    \n",
    "    # w-b parametreleri turevlerinin tersi yonde guncelleniyor (gradyan_inis)    \n",
    "    agirlik = [w-(adim/len(orneklem))*nw for w, nw in zip(agirlik, delta_w)]\n",
    "    bias = [b-(adim/len(orneklem))*nb for b, nb in zip(bias, delta_b)]\n",
    "    return agirlik, bias"
   ]
  },
  {
   "cell_type": "code",
   "execution_count": 17,
   "metadata": {
    "collapsed": true
   },
   "outputs": [],
   "source": [
    "def ogrenme(veri, agirlik, bias, epochs = 30, sayi = 10, adim = 0.5, test_data=None):\n",
    "    \"\"\" epochs: kac kez tum veri kullaniacak\n",
    "        icinde sayi kadar ornek bulunan orneklemler(mini-batch)\n",
    "        gradyan-iniste kullaniliyor. Agirlik ve bias degerleri guncelleniyor.\n",
    "        Ogrenme:\n",
    "            en iyi Agirlik ve bias degerelerini bulmak\n",
    "    \"\"\"\n",
    "    veri = list(veri)\n",
    "    n = len(veri)\n",
    "\n",
    "    if test_data:\n",
    "        test_data = list(test_data)\n",
    "        n_test = len(test_data)\n",
    "\n",
    "    for j in range(epochs):\n",
    "        random.shuffle(veri)\n",
    "        for orneklem in [veri[k:k+sayi] for k in range(0, n, sayi)]:\n",
    "            w, b = gradyan_inis(orneklem, adim, agirlik, bias)\n",
    "        if test_data:\n",
    "            print(\"Epoch {} : {} / {}\".format(j, tahmin(test_data, w, b), n_test));\n",
    "        else:\n",
    "            print(\"Epoch {} complete\".format(j))\n",
    "    return agirlik, bias"
   ]
  },
  {
   "cell_type": "code",
   "execution_count": 18,
   "metadata": {
    "collapsed": true
   },
   "outputs": [],
   "source": [
    "def tahmin(test_data, agirlik, bias):\n",
    "    \"\"\"Return the number of test inputs for which the neural\n",
    "    network outputs the correct result. Note that the neural\n",
    "    network's output is assumed to be the index of whichever\n",
    "    neuron in the final layer has the highest activation.\"\"\"\n",
    "    test_results = [(np.argmax(ileribesleme(x, agirlik, bias)), y) for (x, y) in test_data]\n",
    "    return sum(int(x == y) for (x, y) in test_results)"
   ]
  },
  {
   "cell_type": "markdown",
   "metadata": {},
   "source": [
    "## Calisma\n"
   ]
  },
  {
   "cell_type": "code",
   "execution_count": 45,
   "metadata": {
    "collapsed": true
   },
   "outputs": [],
   "source": [
    "W = np.array([[1,1,1],[0,0,0]])"
   ]
  },
  {
   "cell_type": "code",
   "execution_count": 46,
   "metadata": {},
   "outputs": [
    {
     "name": "stdout",
     "output_type": "stream",
     "text": [
      "[1 2 3]\n",
      "(3,)\n"
     ]
    }
   ],
   "source": [
    "x = np.array([1,2,3])\n",
    "print(x.T)\n",
    "print(np.shape(x.T))"
   ]
  },
  {
   "cell_type": "code",
   "execution_count": 47,
   "metadata": {},
   "outputs": [
    {
     "name": "stdout",
     "output_type": "stream",
     "text": [
      "[6 0]\n"
     ]
    }
   ],
   "source": [
    "print(np.dot(W,x))"
   ]
  },
  {
   "cell_type": "code",
   "execution_count": 48,
   "metadata": {},
   "outputs": [
    {
     "name": "stdout",
     "output_type": "stream",
     "text": [
      "[[1]\n",
      " [2]\n",
      " [3]]\n",
      "(3, 1)\n"
     ]
    }
   ],
   "source": [
    "x = np.array([[1],[2],[3]])\n",
    "print(x)\n",
    "print(np.shape(x))"
   ]
  },
  {
   "cell_type": "code",
   "execution_count": 49,
   "metadata": {},
   "outputs": [
    {
     "name": "stdout",
     "output_type": "stream",
     "text": [
      "[[6]\n",
      " [0]]\n"
     ]
    }
   ],
   "source": [
    "print(np.dot(W,x))"
   ]
  },
  {
   "cell_type": "code",
   "execution_count": null,
   "metadata": {
    "collapsed": true
   },
   "outputs": [],
   "source": []
  },
  {
   "cell_type": "code",
   "execution_count": 50,
   "metadata": {},
   "outputs": [
    {
     "data": {
      "text/plain": [
       "[array([[4],\n",
       "        [9]]), array([[2],\n",
       "        [7]]), array([[0],\n",
       "        [0]]), array([[7],\n",
       "        [4]]), array([[1],\n",
       "        [0]])]"
      ]
     },
     "execution_count": 50,
     "metadata": {},
     "output_type": "execute_result"
    }
   ],
   "source": [
    "X = np.random.randint(10, size=(5,2))\n",
    "training_inputs = [np.reshape(x, (2, 1)) for x in X]\n",
    "training_inputs"
   ]
  },
  {
   "cell_type": "code",
   "execution_count": 51,
   "metadata": {},
   "outputs": [
    {
     "data": {
      "text/plain": [
       "array([[4],\n",
       "       [9]])"
      ]
     },
     "execution_count": 51,
     "metadata": {},
     "output_type": "execute_result"
    }
   ],
   "source": [
    "training_inputs[0]"
   ]
  },
  {
   "cell_type": "code",
   "execution_count": 52,
   "metadata": {},
   "outputs": [
    {
     "data": {
      "text/plain": [
       "numpy.ndarray"
      ]
     },
     "execution_count": 52,
     "metadata": {},
     "output_type": "execute_result"
    }
   ],
   "source": [
    "type(training_inputs[0])"
   ]
  },
  {
   "cell_type": "code",
   "execution_count": 53,
   "metadata": {},
   "outputs": [
    {
     "data": {
      "text/plain": [
       "[array([[4],\n",
       "        [9]]), array([[2],\n",
       "        [7]]), array([[0],\n",
       "        [0]])]"
      ]
     },
     "execution_count": 53,
     "metadata": {},
     "output_type": "execute_result"
    }
   ],
   "source": [
    "training_inputs[0:3]"
   ]
  },
  {
   "cell_type": "code",
   "execution_count": 54,
   "metadata": {},
   "outputs": [
    {
     "name": "stdout",
     "output_type": "stream",
     "text": [
      "[[-0.09593291  0.17354599]\n",
      " [-0.57961606 -0.35618948]\n",
      " [-0.32218234  1.10238282]\n",
      " [-0.88469027  1.35496269]\n",
      " [ 0.28622968  1.10743193]]\n"
     ]
    }
   ],
   "source": [
    "# 1 ile 10 arasinda 100000 adet x1 ve x2\n",
    "X = np.random.randn(100000,2)\n",
    "print(X[1:6,])"
   ]
  },
  {
   "cell_type": "code",
   "execution_count": 55,
   "metadata": {},
   "outputs": [
    {
     "name": "stdout",
     "output_type": "stream",
     "text": [
      "[0 0 0 0 0]\n"
     ]
    }
   ],
   "source": [
    "# ilk kolon ikinci kolondan buyukse, y=1\n",
    "y = (X[:,0] > X[:,1]) * 1\n",
    "print(y[1:6,])"
   ]
  },
  {
   "cell_type": "code",
   "execution_count": 56,
   "metadata": {
    "collapsed": true
   },
   "outputs": [],
   "source": [
    "training_inputs = [np.reshape(x, (2, 1)) for x in X]"
   ]
  },
  {
   "cell_type": "code",
   "execution_count": 57,
   "metadata": {},
   "outputs": [
    {
     "name": "stdout",
     "output_type": "stream",
     "text": [
      "<zip object at 0x10b2449c8>\n"
     ]
    }
   ],
   "source": [
    "veri = zip(training_inputs,y)\n",
    "print(veri)"
   ]
  },
  {
   "cell_type": "code",
   "execution_count": 58,
   "metadata": {
    "collapsed": true
   },
   "outputs": [],
   "source": [
    "X = np.random.randint(2, size=(100,2))\n",
    "y = (X[:,0] > X[:,1]) * 1\n",
    "test_inputs = [np.reshape(x, (2, 1)) for x in X]\n",
    "test_verisi = zip(test_inputs,y)"
   ]
  },
  {
   "cell_type": "code",
   "execution_count": 59,
   "metadata": {},
   "outputs": [
    {
     "name": "stdout",
     "output_type": "stream",
     "text": [
      "Epoch 0 : 80 / 100\n",
      "Epoch 1 : 80 / 100\n",
      "Epoch 2 : 80 / 100\n"
     ]
    }
   ],
   "source": [
    "katmanlar = [2, 10, 1]\n",
    "agirlik, bias = ag(katmanlar)\n",
    "agirlik, bias = ogrenme(veri, agirlik, bias, epochs = 3, test_data=test_verisi)"
   ]
  },
  {
   "cell_type": "code",
   "execution_count": 60,
   "metadata": {},
   "outputs": [
    {
     "data": {
      "text/plain": [
       "([array([[ 1.18095473,  0.53423322],\n",
       "         [-0.58155268,  0.10185382],\n",
       "         [-0.80426334,  0.26095208],\n",
       "         [ 0.76622115,  1.47263428],\n",
       "         [ 0.10961496,  0.0559628 ],\n",
       "         [-0.15497911, -1.04828676],\n",
       "         [-0.58667716,  1.26227533],\n",
       "         [ 1.31837991, -0.4234978 ],\n",
       "         [-0.53434866,  0.66481004],\n",
       "         [-2.14512623, -0.16385528]]),\n",
       "  array([[-0.38351141, -1.30812767, -0.40956386,  0.1505789 ,  1.45330778,\n",
       "          -0.80897493, -0.74371651,  0.36516754,  2.10351043, -0.96184297]])],\n",
       " [array([[ 1.27185787],\n",
       "         [ 0.32082366],\n",
       "         [ 0.30706861],\n",
       "         [ 0.27577491],\n",
       "         [-1.25779417],\n",
       "         [ 1.182     ],\n",
       "         [ 0.24413707],\n",
       "         [-1.63260298],\n",
       "         [ 1.41699634],\n",
       "         [-1.93241823]]), array([[-0.80143435]])])"
      ]
     },
     "execution_count": 60,
     "metadata": {},
     "output_type": "execute_result"
    }
   ],
   "source": [
    "agirlik, bias"
   ]
  },
  {
   "cell_type": "code",
   "execution_count": 61,
   "metadata": {},
   "outputs": [
    {
     "name": "stdout",
     "output_type": "stream",
     "text": [
      "[[ 0.68655399]]\n"
     ]
    }
   ],
   "source": [
    "girdi = [[100],[10]]\n",
    "print(ileribesleme(girdi, agirlik, bias))"
   ]
  },
  {
   "cell_type": "code",
   "execution_count": 62,
   "metadata": {},
   "outputs": [
    {
     "name": "stdout",
     "output_type": "stream",
     "text": [
      "[[ 0.51525609]]\n"
     ]
    },
    {
     "name": "stderr",
     "output_type": "stream",
     "text": [
      "/Library/Frameworks/Python.framework/Versions/3.6/lib/python3.6/site-packages/ipykernel_launcher.py:3: RuntimeWarning: overflow encountered in exp\n",
      "  This is separate from the ipykernel package so we can avoid doing imports until\n"
     ]
    }
   ],
   "source": [
    "girdi = [[10],[1000]]\n",
    "print(ileribesleme(girdi, agirlik, bias))"
   ]
  },
  {
   "cell_type": "code",
   "execution_count": 63,
   "metadata": {
    "collapsed": true
   },
   "outputs": [],
   "source": [
    "import mnist_loader\n",
    "training_data, validation_data, test_data = mnist_loader.load_data_wrapper()\n",
    "training_data = list(training_data)"
   ]
  },
  {
   "cell_type": "code",
   "execution_count": 64,
   "metadata": {},
   "outputs": [
    {
     "data": {
      "text/plain": [
       "(1, 2)"
      ]
     },
     "execution_count": 64,
     "metadata": {},
     "output_type": "execute_result"
    }
   ],
   "source": [
    "t = training_data[1:2]\n",
    "np.shape(training_data[1:2])\n",
    "#print(training_data)\n"
   ]
  },
  {
   "cell_type": "code",
   "execution_count": 65,
   "metadata": {
    "collapsed": true
   },
   "outputs": [],
   "source": [
    "katmanlar = [784, 30, 10]\n",
    "agirlik, bias = ag(katmanlar)"
   ]
  },
  {
   "cell_type": "code",
   "execution_count": 66,
   "metadata": {},
   "outputs": [
    {
     "name": "stdout",
     "output_type": "stream",
     "text": [
      "Epoch 0 : 1035 / 10000\n",
      "Epoch 1 : 1034 / 10000\n",
      "Epoch 2 : 1010 / 10000\n"
     ]
    },
    {
     "data": {
      "text/plain": [
       "([array([[-1.18772098, -0.13546604, -1.61934007, ...,  0.9554536 ,\n",
       "           1.37470453,  1.54416376],\n",
       "         [ 0.7490318 ,  0.04645829,  0.04544097, ...,  0.48730732,\n",
       "          -0.47316221,  0.79062721],\n",
       "         [-0.30534371, -0.4431419 , -0.11353317, ..., -2.49699752,\n",
       "           1.31098953, -0.30979563],\n",
       "         ..., \n",
       "         [-0.47923463,  1.26768775, -0.38624203, ..., -1.4157727 ,\n",
       "          -0.97293826, -0.88493562],\n",
       "         [-0.85324024,  0.48001228, -0.23730557, ...,  0.05579599,\n",
       "          -1.45331804, -1.77638199],\n",
       "         [ 1.28490457, -0.73704989, -0.42869123, ..., -0.65351425,\n",
       "          -1.04373033,  0.65878372]]),\n",
       "  array([[  1.01795030e+00,   1.35254362e+00,   6.65462082e-01,\n",
       "           -8.16932092e-01,   9.87519593e-01,  -3.57652268e-01,\n",
       "            9.68943988e-01,   1.19355951e+00,   2.66747361e+00,\n",
       "            8.56533546e-01,  -1.17443802e+00,  -8.64342782e-02,\n",
       "            4.46027009e-01,   1.40499062e-01,   1.30654501e+00,\n",
       "            1.84455701e+00,  -3.28845589e-01,  -2.50770952e-01,\n",
       "            7.88987407e-01,   1.22845982e+00,   1.45913093e+00,\n",
       "           -7.17835474e-01,   1.12468419e+00,   5.31309685e-01,\n",
       "           -9.61005460e-01,  -1.15894928e+00,   1.38538248e-01,\n",
       "           -2.58157547e-01,   4.78491930e-01,  -4.43656354e-01],\n",
       "         [ -3.26169183e-01,   1.04558842e+00,  -4.17729030e-01,\n",
       "           -3.20814056e-02,  -9.80352409e-01,  -5.71746013e-01,\n",
       "           -1.21605700e+00,   3.92117706e-01,  -5.45524555e-01,\n",
       "           -8.60851837e-01,  -1.20087818e+00,  -2.10361151e-02,\n",
       "           -1.40331209e+00,   3.18404653e-02,  -2.13100866e-02,\n",
       "           -1.32245819e-01,  -1.89781972e+00,  -3.66242832e-01,\n",
       "            8.18821691e-01,  -1.85879904e+00,  -1.31352778e-01,\n",
       "           -8.37960856e-02,  -1.73885248e-01,  -9.61540354e-02,\n",
       "            3.40780337e-01,   5.58782647e-01,  -1.84544905e-01,\n",
       "           -6.33812878e-01,   1.44680280e+00,   4.40596828e-01],\n",
       "         [  9.43852180e-02,   8.04242687e-01,   1.12046255e-01,\n",
       "            1.10337963e-01,  -1.20387827e+00,   3.43285672e-02,\n",
       "            3.11335879e-02,  -1.15596282e+00,  -5.17091088e-01,\n",
       "           -1.13807267e-01,  -4.55960411e-01,   1.95897106e+00,\n",
       "           -2.94780158e-02,  -6.45155379e-01,   1.18360556e+00,\n",
       "           -3.76884653e-01,   2.73046263e-01,  -1.26310397e-02,\n",
       "            4.93857274e-01,  -8.48876141e-01,   6.53359362e-01,\n",
       "           -6.20787547e-01,  -3.34259317e-01,   1.45749550e-01,\n",
       "            6.34520238e-02,  -8.61326389e-01,   1.01284844e+00,\n",
       "           -2.32098982e-01,   3.93096706e-01,   1.33216839e-01],\n",
       "         [  7.48790562e-01,   2.81400133e-01,   1.55233028e+00,\n",
       "            7.68583551e-01,  -1.90091485e+00,   1.18208881e+00,\n",
       "           -4.10715668e-01,  -5.12017583e-01,  -1.62313824e-01,\n",
       "            1.42214119e+00,  -2.06378098e+00,  -9.54432515e-01,\n",
       "           -7.99390023e-01,   1.00122127e+00,   5.16083112e-02,\n",
       "            1.00387945e+00,  -7.37804065e-01,  -9.72083576e-01,\n",
       "            5.47651579e-02,  -2.37300072e-01,   4.73396222e-01,\n",
       "            1.21645305e+00,   7.30625396e-01,   9.06705364e-01,\n",
       "            1.38198638e+00,   2.90410489e-01,  -9.08192685e-01,\n",
       "           -6.17696482e-01,   1.08405878e+00,  -1.26849171e-01],\n",
       "         [  2.01533258e-02,   1.43462788e-01,  -4.24091683e-01,\n",
       "           -6.19572281e-02,   9.97945021e-01,   4.61629235e-01,\n",
       "           -1.63382534e-01,  -2.08433741e-01,  -1.18222988e+00,\n",
       "            5.00106985e-01,   1.46233143e-01,   3.76343799e-01,\n",
       "           -3.19661331e-01,   1.17963464e+00,   6.92556786e-01,\n",
       "            6.83266493e-02,   1.80584348e+00,   1.00324382e+00,\n",
       "           -1.18073922e-01,  -1.61807175e+00,  -1.86113130e-03,\n",
       "           -1.64941703e+00,   2.35203953e+00,  -3.38488044e-01,\n",
       "            2.55066985e+00,   7.96882174e-01,   7.67189320e-01,\n",
       "           -5.97696283e-01,   9.21681605e-01,   9.78628279e-01],\n",
       "         [ -9.39470784e-01,   5.37865958e-01,  -1.24516137e-01,\n",
       "            2.82964066e-01,   4.32216064e-01,  -1.75693402e+00,\n",
       "           -5.30490398e-01,   1.34508267e+00,   1.24901509e+00,\n",
       "           -3.11743866e-01,  -1.23009506e+00,   1.31654254e+00,\n",
       "           -8.36860030e-01,  -1.19156137e+00,  -9.81484702e-01,\n",
       "           -2.14908868e-01,   1.95639744e-01,  -5.26153315e-01,\n",
       "           -7.66279833e-01,  -1.90172854e-01,   1.18335199e+00,\n",
       "           -1.52647063e+00,  -1.24392691e+00,  -1.81794569e+00,\n",
       "           -5.55660733e-02,  -2.69567828e-01,   4.12595001e-01,\n",
       "           -1.46017821e+00,  -9.23643180e-01,  -1.47016812e+00],\n",
       "         [  3.76213250e-01,   9.94300975e-01,  -1.31448841e+00,\n",
       "            3.38016314e-01,   8.83271278e-01,  -8.02433036e-01,\n",
       "           -5.33059923e-01,  -9.42632733e-02,   1.13140741e+00,\n",
       "            4.07784978e-01,  -1.05157553e+00,  -2.73212770e-01,\n",
       "           -1.04231405e+00,   4.53259526e-02,  -9.35648607e-01,\n",
       "           -5.82719077e-01,   7.88373060e-01,  -2.02552796e-01,\n",
       "           -1.76466765e+00,   3.23278097e-02,   2.22326203e+00,\n",
       "           -1.06020009e+00,  -5.72939347e-01,  -5.68152711e-01,\n",
       "            5.61292355e-01,   1.17757995e+00,  -1.04123442e+00,\n",
       "            6.69700637e-01,   1.10325114e+00,   1.53119121e+00],\n",
       "         [ -7.18076051e-02,   4.77154904e-01,  -2.28271606e+00,\n",
       "            1.33202172e+00,   6.28802556e-01,   1.05624932e-01,\n",
       "            3.08873073e-01,  -2.07092514e+00,  -1.34140031e-02,\n",
       "           -7.47297051e-01,  -1.05689553e+00,  -1.01790854e+00,\n",
       "            5.80442896e-01,   1.05382255e+00,  -6.85774539e-02,\n",
       "            8.93896302e-02,   2.68780280e+00,  -4.98569889e-01,\n",
       "           -9.63058688e-01,   7.19301998e-01,   1.34988137e+00,\n",
       "           -1.38335673e+00,   3.35222943e-01,  -3.86576766e-01,\n",
       "           -1.23812194e+00,   1.63166545e+00,  -5.64545254e-01,\n",
       "           -3.46921871e-01,  -4.64495638e-01,  -9.38292607e-02],\n",
       "         [ -2.19531904e+00,  -2.68115995e-01,   3.06549260e-01,\n",
       "           -1.65609767e-01,   1.35214225e-01,   3.30980626e-01,\n",
       "           -1.18642666e+00,   1.86481445e+00,  -4.39676495e-01,\n",
       "            1.89171916e+00,   2.05139496e+00,   7.36725402e-01,\n",
       "           -2.09871377e-01,  -1.34686080e+00,  -6.57793670e-01,\n",
       "            1.55012157e+00,  -8.20650731e-01,  -1.36021711e-01,\n",
       "           -2.41834683e-02,  -3.87424505e-01,   1.38106641e+00,\n",
       "           -1.13705624e+00,  -1.67566725e+00,   1.05134719e+00,\n",
       "           -1.10840434e+00,  -9.17631052e-01,  -1.47339332e+00,\n",
       "           -2.19626113e-01,   5.67522626e-01,   1.08848133e+00],\n",
       "         [  3.16384336e-01,  -8.59408448e-01,  -1.40899144e+00,\n",
       "           -1.19303652e+00,   5.68009517e-01,   5.62018530e-02,\n",
       "           -5.25019315e-01,  -3.84322235e-01,   1.37864467e+00,\n",
       "            1.48473946e-01,   1.07183811e+00,   6.59898874e-01,\n",
       "           -6.56594537e-01,  -4.16611670e-01,   1.95641044e-01,\n",
       "           -8.99512597e-01,   1.62553175e+00,  -1.30936417e+00,\n",
       "            5.60742343e-01,  -1.37446102e+00,   1.18563281e+00,\n",
       "           -1.91939787e-01,  -1.11618118e-01,  -1.20180316e-01,\n",
       "            2.58926459e-01,   7.91182294e-01,   1.18084552e+00,\n",
       "            1.06375159e+00,  -3.27087046e-01,   1.67994568e-01]])],\n",
       " [array([[ 1.04959875],\n",
       "         [ 0.90030278],\n",
       "         [-1.20690014],\n",
       "         [-0.2387669 ],\n",
       "         [-0.51275495],\n",
       "         [ 1.26835956],\n",
       "         [ 0.50418079],\n",
       "         [-0.78007552],\n",
       "         [ 0.0938556 ],\n",
       "         [-1.08330376],\n",
       "         [-0.39385517],\n",
       "         [ 0.57556263],\n",
       "         [-0.28695118],\n",
       "         [ 0.46828876],\n",
       "         [ 1.02713998],\n",
       "         [ 0.53664695],\n",
       "         [ 1.72267342],\n",
       "         [ 0.28223999],\n",
       "         [-0.35348297],\n",
       "         [ 0.59075221],\n",
       "         [-0.23403876],\n",
       "         [-1.70599286],\n",
       "         [ 2.2388363 ],\n",
       "         [-1.08791493],\n",
       "         [ 0.55564671],\n",
       "         [-0.70640942],\n",
       "         [ 1.92349657],\n",
       "         [-1.52791439],\n",
       "         [ 0.51682992],\n",
       "         [ 0.33901905]]), array([[ 0.28111043],\n",
       "         [-0.37005242],\n",
       "         [ 1.25216018],\n",
       "         [ 0.27173082],\n",
       "         [ 1.21042982],\n",
       "         [ 0.02173274],\n",
       "         [ 0.07682395],\n",
       "         [-0.80273879],\n",
       "         [-0.34770322],\n",
       "         [ 0.38098875]])])"
      ]
     },
     "execution_count": 66,
     "metadata": {},
     "output_type": "execute_result"
    }
   ],
   "source": [
    "ogrenme(training_data, agirlik, bias, 3, 10, 3.0, test_data=test_data)"
   ]
  },
  {
   "cell_type": "code",
   "execution_count": 67,
   "metadata": {
    "collapsed": true
   },
   "outputs": [],
   "source": [
    "agirlik, bias = gradyan_inis(training_data[1:10],adim = 0.5, agirlik = agirlik, bias = bias)"
   ]
  },
  {
   "cell_type": "code",
   "execution_count": 68,
   "metadata": {},
   "outputs": [
    {
     "data": {
      "text/plain": [
       "([array([[-1.18772098, -0.13546604, -1.61934007, ...,  0.9554536 ,\n",
       "           1.37470453,  1.54416376],\n",
       "         [ 0.7490318 ,  0.04645829,  0.04544097, ...,  0.48730732,\n",
       "          -0.47316221,  0.79062721],\n",
       "         [-0.30534371, -0.4431419 , -0.11353317, ..., -2.49699752,\n",
       "           1.31098953, -0.30979563],\n",
       "         ..., \n",
       "         [-0.47923463,  1.26768775, -0.38624203, ..., -1.4157727 ,\n",
       "          -0.97293826, -0.88493562],\n",
       "         [-0.85324024,  0.48001228, -0.23730557, ...,  0.05579599,\n",
       "          -1.45331804, -1.77638199],\n",
       "         [ 1.28490457, -0.73704989, -0.42869123, ..., -0.65351425,\n",
       "          -1.04373033,  0.65878372]]),\n",
       "  array([[  1.01746272e+00,   1.35227310e+00,   6.65305437e-01,\n",
       "           -8.16958089e-01,   9.87360915e-01,  -3.58077222e-01,\n",
       "            9.68555040e-01,   1.19355122e+00,   2.66745432e+00,\n",
       "            8.56334584e-01,  -1.17445270e+00,  -8.66845845e-02,\n",
       "            4.45611269e-01,   1.40286508e-01,   1.30604778e+00,\n",
       "            1.84405700e+00,  -3.29337087e-01,  -2.50849430e-01,\n",
       "            7.88742894e-01,   1.22827507e+00,   1.45906924e+00,\n",
       "           -7.18273476e-01,   1.12452028e+00,   5.31006148e-01,\n",
       "           -9.61429460e-01,  -1.15930685e+00,   1.38142368e-01,\n",
       "           -2.58364497e-01,   4.78100749e-01,  -4.43745024e-01],\n",
       "         [ -3.24455354e-01,   1.04703707e+00,  -4.17492815e-01,\n",
       "           -3.20060796e-02,  -9.80088373e-01,  -5.69956817e-01,\n",
       "           -1.21459201e+00,   3.92117829e-01,  -5.45529474e-01,\n",
       "           -8.60621790e-01,  -1.20087891e+00,  -1.98771067e-02,\n",
       "           -1.40150017e+00,   3.21587182e-02,  -1.95402122e-02,\n",
       "           -1.30460121e-01,  -1.89603784e+00,  -3.66161598e-01,\n",
       "            8.19650656e-01,  -1.85847659e+00,  -1.31345577e-01,\n",
       "           -8.23132045e-02,  -1.73610192e-01,  -9.46719655e-02,\n",
       "            3.42416713e-01,   5.59862061e-01,  -1.82927359e-01,\n",
       "           -6.33462423e-01,   1.44798953e+00,   4.40890724e-01],\n",
       "         [  5.67454887e-02,   8.00170377e-01,   8.91181158e-02,\n",
       "            1.03637811e-01,  -1.23104678e+00,   5.47115334e-03,\n",
       "            1.70415382e-02,  -1.15952489e+00,  -5.26537399e-01,\n",
       "           -1.44758525e-01,  -4.64307635e-01,   1.95318045e+00,\n",
       "           -5.98184181e-02,  -6.75455632e-01,   1.14379498e+00,\n",
       "           -4.17173330e-01,   2.34106081e-01,  -2.43107007e-02,\n",
       "            4.71011878e-01,  -8.82837713e-01,   6.43307587e-01,\n",
       "           -6.52554889e-01,  -3.63214735e-01,   1.34556490e-01,\n",
       "            4.04117124e-02,  -8.94516587e-01,   9.83893059e-01,\n",
       "           -2.66724084e-01,   3.52624590e-01,   1.21500650e-01],\n",
       "         [  7.37963698e-01,   2.80495451e-01,   1.54389810e+00,\n",
       "            7.63366527e-01,  -1.91077965e+00,   1.17443686e+00,\n",
       "           -4.13757547e-01,  -5.15391704e-01,  -1.68956088e-01,\n",
       "            1.41843974e+00,  -2.06901671e+00,  -9.56132689e-01,\n",
       "           -8.08393872e-01,   9.98905962e-01,   4.07343019e-02,\n",
       "            9.93006677e-01,  -7.48409567e-01,  -9.79456212e-01,\n",
       "            5.35352855e-02,  -2.40167618e-01,   4.72957055e-01,\n",
       "            1.20598013e+00,   7.22440400e-01,   9.05418700e-01,\n",
       "            1.37962684e+00,   2.86325335e-01,  -9.18461263e-01,\n",
       "           -6.21555872e-01,   1.07351701e+00,  -1.30512154e-01],\n",
       "         [  1.97690979e-02,   1.43355897e-01,  -4.24205748e-01,\n",
       "           -6.19628672e-02,   9.97642796e-01,   4.61251976e-01,\n",
       "           -1.63463260e-01,  -2.08433788e-01,  -1.18248886e+00,\n",
       "            4.99926870e-01,   1.45981873e-01,   3.76292015e-01,\n",
       "           -3.19766369e-01,   1.17939092e+00,   6.92186112e-01,\n",
       "            6.79693679e-02,   1.80550767e+00,   1.00323828e+00,\n",
       "           -1.18425465e-01,  -1.61839829e+00,  -2.15725456e-03,\n",
       "           -1.64978644e+00,   2.35194181e+00,  -3.38847131e-01,\n",
       "            2.55029350e+00,   7.96520385e-01,   7.67104574e-01,\n",
       "           -5.98026078e-01,   9.21313625e-01,   9.78609187e-01],\n",
       "         [ -9.39470835e-01,   5.37865948e-01,  -1.24516176e-01,\n",
       "            2.82964056e-01,   4.32216023e-01,  -1.75693404e+00,\n",
       "           -5.30490435e-01,   1.34508266e+00,   1.24901507e+00,\n",
       "           -3.11743895e-01,  -1.23009507e+00,   1.31654252e+00,\n",
       "           -8.36860055e-01,  -1.19156140e+00,  -9.81484753e-01,\n",
       "           -2.14908919e-01,   1.95639696e-01,  -5.26153342e-01,\n",
       "           -7.66279839e-01,  -1.90172881e-01,   1.18335199e+00,\n",
       "           -1.52647068e+00,  -1.24392692e+00,  -1.81794570e+00,\n",
       "           -5.55660974e-02,  -2.69567862e-01,   4.12594950e-01,\n",
       "           -1.46017824e+00,  -9.23643227e-01,  -1.47016813e+00],\n",
       "         [  3.48215553e-01,   9.91242127e-01,  -1.32855895e+00,\n",
       "            3.37704662e-01,   8.65097156e-01,  -8.23267432e-01,\n",
       "           -5.45580585e-01,  -9.44219008e-02,   1.12639168e+00,\n",
       "            3.84492117e-01,  -1.05614621e+00,  -2.77511961e-01,\n",
       "           -1.05610434e+00,   2.00259179e-02,  -9.63433341e-01,\n",
       "           -6.10308511e-01,   7.62020154e-01,  -2.08351369e-01,\n",
       "           -1.78463270e+00,   8.66247214e-03,   2.20836657e+00,\n",
       "           -1.08481319e+00,  -5.90311437e-01,  -5.78414730e-01,\n",
       "            5.37315082e-01,   1.14978956e+00,  -1.05464234e+00,\n",
       "            6.44233003e-01,   1.07529266e+00,   1.52494102e+00],\n",
       "         [ -1.09662232e-01,   4.69624472e-01,  -2.29996181e+00,\n",
       "            1.33005071e+00,   6.10147011e-01,   6.91517740e-02,\n",
       "            2.91264812e-01,  -2.07125302e+00,  -2.01743967e-02,\n",
       "           -7.79220397e-01,  -1.06300599e+00,  -1.02318994e+00,\n",
       "            5.50135531e-01,   1.01980386e+00,  -1.08613974e-01,\n",
       "            4.89800648e-02,   2.64842808e+00,  -5.02326598e-01,\n",
       "           -9.97946234e-01,   6.86343720e-01,   1.33282759e+00,\n",
       "           -1.41422719e+00,   3.05726501e-01,  -4.04752755e-01,\n",
       "           -1.27138872e+00,   1.59345374e+00,  -5.82847592e-01,\n",
       "           -3.81894319e-01,  -5.04217763e-01,  -1.02162514e-01],\n",
       "         [ -2.19648500e+00,  -2.68282539e-01,   3.06161755e-01,\n",
       "           -1.65640859e-01,   1.34059577e-01,   3.29863206e-01,\n",
       "           -1.18643269e+00,   1.86479549e+00,  -4.40715115e-01,\n",
       "            1.89115674e+00,   2.05039358e+00,   7.36724090e-01,\n",
       "           -2.09932432e-01,  -1.34765396e+00,  -6.58884066e-01,\n",
       "            1.54908929e+00,  -8.21600809e-01,  -1.36058503e-01,\n",
       "           -2.53114108e-02,  -3.88554868e-01,   1.37994928e+00,\n",
       "           -1.13821419e+00,  -1.67594781e+00,   1.05023313e+00,\n",
       "           -1.10952351e+00,  -9.18764947e-01,  -1.47345559e+00,\n",
       "           -2.20762266e-01,   5.66350564e-01,   1.08845588e+00],\n",
       "         [  2.69064710e-01,  -8.66637257e-01,  -1.44003931e+00,\n",
       "           -1.20002741e+00,   5.40272023e-01,   1.79228736e-02,\n",
       "           -5.54446598e-01,  -3.87846615e-01,   1.37100610e+00,\n",
       "            1.13205465e-01,   1.06606597e+00,   6.48681712e-01,\n",
       "           -6.94504185e-01,  -4.53162703e-01,   1.45584099e-01,\n",
       "           -9.50306881e-01,   1.57612954e+00,  -1.32312128e+00,\n",
       "            5.29753711e-01,  -1.40573331e+00,   1.17783396e+00,\n",
       "           -2.30443016e-01,  -1.46263030e-01,  -1.31449508e-01,\n",
       "            2.26775095e-01,   7.50631386e-01,   1.15107015e+00,\n",
       "            1.02865552e+00,  -3.75408587e-01,   1.61189725e-01]])],\n",
       " [array([[ 1.04879786],\n",
       "         [ 0.89568438],\n",
       "         [-1.19694129],\n",
       "         [-0.23859775],\n",
       "         [-0.51419681],\n",
       "         [ 1.2667969 ],\n",
       "         [ 0.50529259],\n",
       "         [-0.77566897],\n",
       "         [ 0.09127105],\n",
       "         [-1.08500914],\n",
       "         [-0.38960615],\n",
       "         [ 0.5705106 ],\n",
       "         [-0.28595486],\n",
       "         [ 0.46718575],\n",
       "         [ 1.02634851],\n",
       "         [ 0.53700664],\n",
       "         [ 1.71431076],\n",
       "         [ 0.2919968 ],\n",
       "         [-0.3506183 ],\n",
       "         [ 0.59222167],\n",
       "         [-0.2394085 ],\n",
       "         [-1.70151144],\n",
       "         [ 2.23951161],\n",
       "         [-1.08573733],\n",
       "         [ 0.55538033],\n",
       "         [-0.71063198],\n",
       "         [ 1.92193886],\n",
       "         [-1.53030425],\n",
       "         [ 0.51771325],\n",
       "         [ 0.33765771]]), array([[ 0.28060967],\n",
       "         [-0.36826308],\n",
       "         [ 1.21132798],\n",
       "         [ 0.26081612],\n",
       "         [ 1.21003606],\n",
       "         [ 0.02173269],\n",
       "         [ 0.04862819],\n",
       "         [-0.84408545],\n",
       "         [-0.34887561],\n",
       "         [ 0.32999799]])])"
      ]
     },
     "execution_count": 68,
     "metadata": {},
     "output_type": "execute_result"
    }
   ],
   "source": [
    "agirlik, bias"
   ]
  },
  {
   "cell_type": "code",
   "execution_count": null,
   "metadata": {
    "collapsed": true
   },
   "outputs": [],
   "source": []
  },
  {
   "cell_type": "code",
   "execution_count": null,
   "metadata": {
    "collapsed": true
   },
   "outputs": [],
   "source": []
  }
 ],
 "metadata": {
  "kernelspec": {
   "display_name": "Python 3",
   "language": "python",
   "name": "python3"
  },
  "language_info": {
   "codemirror_mode": {
    "name": "ipython",
    "version": 3
   },
   "file_extension": ".py",
   "mimetype": "text/x-python",
   "name": "python",
   "nbconvert_exporter": "python",
   "pygments_lexer": "ipython3",
   "version": "3.6.1"
  }
 },
 "nbformat": 4,
 "nbformat_minor": 2
}
