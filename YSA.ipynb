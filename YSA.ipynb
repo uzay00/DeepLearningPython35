{
 "cells": [
  {
   "cell_type": "markdown",
   "metadata": {},
   "source": [
    "# Yapay Sinir Ağları\n",
    "\n",
    "Bu yazıyı ve kodları hazırlarken, Michael Nielson'ın açık kaynak Neural Networks and Deep Learning adlı [kitabından](http://neuralnetworksanddeeplearning.com) yararlandım.\n"
   ]
  },
  {
   "cell_type": "markdown",
   "metadata": {},
   "source": [
    "### Numpy hatırlayalım"
   ]
  },
  {
   "cell_type": "code",
   "execution_count": 1,
   "metadata": {
    "collapsed": true
   },
   "outputs": [],
   "source": [
    "import random\n",
    "import numpy as np"
   ]
  },
  {
   "cell_type": "markdown",
   "metadata": {},
   "source": [
    "![](NumPy.png)"
   ]
  },
  {
   "cell_type": "code",
   "execution_count": 2,
   "metadata": {},
   "outputs": [
    {
     "name": "stdout",
     "output_type": "stream",
     "text": [
      "(3, 2)\n",
      "(2, 1)\n",
      "[[1]\n",
      " [2]\n",
      " [3]]\n"
     ]
    }
   ],
   "source": [
    "e = np.array([[1,1],\n",
    "              [2,2],\n",
    "              [3,3,]])\n",
    "f = np.array([[1],\n",
    "              [0]])\n",
    "\n",
    "print(np.shape(e))\n",
    "print(np.shape(f))\n",
    "print(e.dot(f))"
   ]
  },
  {
   "cell_type": "code",
   "execution_count": 3,
   "metadata": {},
   "outputs": [
    {
     "name": "stdout",
     "output_type": "stream",
     "text": [
      "[[1 1]\n",
      " [2 2]\n",
      " [3 3]] \n",
      "\n",
      "[[1 2 3]\n",
      " [1 2 3]] \n",
      "\n"
     ]
    }
   ],
   "source": [
    "print(e,\"\\n\")\n",
    "print(e.T,\"\\n\")"
   ]
  },
  {
   "cell_type": "code",
   "execution_count": 4,
   "metadata": {},
   "outputs": [
    {
     "name": "stdout",
     "output_type": "stream",
     "text": [
      "[1 1] [1 2 3]\n",
      "[2 2] [1 2 3]\n"
     ]
    }
   ],
   "source": [
    "for a, b in zip(e, e.T):\n",
    "    print(a,b)"
   ]
  },
  {
   "cell_type": "code",
   "execution_count": 5,
   "metadata": {},
   "outputs": [
    {
     "name": "stdout",
     "output_type": "stream",
     "text": [
      "[1 2 3]\n"
     ]
    }
   ],
   "source": [
    "dVeri = np.array([1,2,3])\n",
    "def dFonk():\n",
    "    dVeri = 2 * dVeri\n",
    "print(dVeri)"
   ]
  },
  {
   "cell_type": "code",
   "execution_count": 6,
   "metadata": {},
   "outputs": [
    {
     "name": "stdout",
     "output_type": "stream",
     "text": [
      "[2 4 6]\n"
     ]
    }
   ],
   "source": [
    "dVeri = 2 * dVeri\n",
    "print(dVeri)"
   ]
  },
  {
   "cell_type": "code",
   "execution_count": 7,
   "metadata": {},
   "outputs": [
    {
     "name": "stdout",
     "output_type": "stream",
     "text": [
      "1 a\n",
      "3 b\n",
      "5 x\n",
      "7 y\n"
     ]
    }
   ],
   "source": [
    "A = [1,3,5,7]\n",
    "B = [\"a\",\"b\",\"x\",\"y\"]\n",
    "for a,b in zip(A,B):\n",
    "    print(a,b)"
   ]
  },
  {
   "cell_type": "markdown",
   "metadata": {},
   "source": [
    "#### Yardimci Fonksiyonlar\n",
    "\n",
    "Sıgmoid fonksiyonu bir nöronun gelen toplam girdiyi, 0 ile 1 arasında bie çıktı değerine dönüştürür. Bu fonksiyonun türevi, kendisi ile 1den cıkarılmış halinin çarpınıma eşittir."
   ]
  },
  {
   "cell_type": "code",
   "execution_count": 8,
   "metadata": {
    "collapsed": true
   },
   "outputs": [],
   "source": [
    "#### Yardimci Fonksiyonlar\n",
    "def sigmoid(z):\n",
    "    return 1.0/(1.0+np.exp(-z))\n",
    "def sigmoid_turevi(z):\n",
    "    return sigmoid(z)*(1-sigmoid(z))"
   ]
  },
  {
   "cell_type": "markdown",
   "metadata": {},
   "source": [
    "### Ağı oluşturalım\n",
    "Her bir katmanda kaç sinir hücresi olacağını bir listeden alarak, ağı oluşturan bir fonksiyon yazalım."
   ]
  },
  {
   "cell_type": "code",
   "execution_count": 9,
   "metadata": {
    "collapsed": true
   },
   "outputs": [],
   "source": [
    "def ag(katmanlar):\n",
    "    b = [np.random.randn(k, 1) for k in katmanlar[1:]] # bias degerleri (ilk katman haric)\n",
    "    W = [np.random.randn(k2, k1) for k1, k2 in zip(katmanlar[:-1],katmanlar[1:])]\n",
    "    return W, b"
   ]
  },
  {
   "cell_type": "markdown",
   "metadata": {},
   "source": [
    "#### Örnek bir ağ"
   ]
  },
  {
   "cell_type": "code",
   "execution_count": 10,
   "metadata": {},
   "outputs": [
    {
     "name": "stdout",
     "output_type": "stream",
     "text": [
      "agirlik :\n",
      "[[-0.81677266 -1.26841745  1.70132266]\n",
      " [-0.91724354 -0.71945923 -0.12453133]\n",
      " [ 0.84350872  0.83501493 -0.03834903]\n",
      " [ 0.85558418 -0.08470351  0.17014328]] \n",
      "\n",
      "[[ 0.43575331 -1.30116637 -1.49129085  1.86232967]\n",
      " [-0.50012642 -0.24755435  0.42571227  0.19207563]] \n",
      "\n",
      "bias :\n",
      "[[ 0.70517626]\n",
      " [ 1.51605412]\n",
      " [ 1.03011131]\n",
      " [-0.21782916]] \n",
      "\n",
      "[[ 1.30923064]\n",
      " [-1.5072601 ]] \n",
      "\n"
     ]
    }
   ],
   "source": [
    "katmanlar = [3, 4, 2]\n",
    "agirlik, bias = ag(katmanlar)\n",
    "\n",
    "print(\"agirlik :\")\n",
    "for w in agirlik:\n",
    "    print(w, \"\\n\")\n",
    "    \n",
    "print(\"bias :\")\n",
    "for b in bias:\n",
    "    print(b, \"\\n\")"
   ]
  },
  {
   "cell_type": "markdown",
   "metadata": {},
   "source": [
    "### İleri Besleme\n",
    "\n",
    "![network.jpg](network.jpg)\n"
   ]
  },
  {
   "cell_type": "markdown",
   "metadata": {},
   "source": [
    "![noronislem.JPG](noronislem.JPG)\n",
    "\n",
    "\n",
    "Yukarıdaki yapay sinir ağı, 3 katmandan oluşmaktadır.\n",
    "\n",
    "> Birinci katman, girdi olarak $x_1$, $x_2$, $x_3$ verisini alir. \n",
    "\n",
    "ilk katmana özel olarak $a_i(1) = z_i(1) = x_i$dir. \n",
    "\n",
    "> Daha sonraki katmanlardaki nöronlar, bir önceki katmanın ağırlıklı toplamını girdi olarak kabul eder.\n",
    "\n",
    "\n",
    "\n",
    "Genel olarak,\n",
    "\n",
    "> $z_j(t) = \\sum_i w_{j,i}(t) \\times a_i(t-1) + b_j(t)$\n",
    "\n",
    "mesela  $z_4(2) = w_{4,1}(2) \\times a_1(1) + w_{4,2}(2) \\times a_2(1) + w_{4,3}(2) \\times a_3(1) + b_4(2)$dir.\n",
    "\n",
    "> $w_{j,i}(t)$: $\\hspace{1cm}$ $(t-1)$'inci katmandaki $i$'nci nörondan $(t)$'inci katmandaki $j$nci nörona olan bağlantının ağırlık değeridir.\n",
    "\n",
    "Aynı şekilde\n",
    "\n",
    "> $b_{j}(t)$: $\\hspace{1cm}$ $(t)$'inci katmandaki $j$'nci nörona ait bias değeridir\n",
    "\n",
    "Bir nöronun çıktısı, sigmoid fonksiyonuna net girdi değeri verilerek hesaplanır.\n",
    "\n",
    "> $a_j(t) = \\sigma(z_j(t)) = \\frac{1}{1 + e^{z_j(t)}}$\n",
    "\n",
    "\n",
    "#### İleri Besleme Algoritması\n",
    "\n",
    "Ağımız verilen girdi x ve ağırlık w, bias b değerlerine göre bir çıktı üretir. Vektörize edilerek yapılan işlem\n",
    "\n",
    "> $z(t) = w(t) \\cdot a(t-1) + b(t)$\n",
    "\n",
    "> $a(t) = \\sigma(z(t))$\n",
    "\n",
    "Her bir katmandaki nöronlar, önceki katmanlardaki nöron çıktılarını ağırlıklarıyla çarpıp son olarak bias(çapa ya da referans) değeri ekleyerek net girdi olan $z$ değerini bulurlar. Sonraki işlem ise, sigmoid ile çıktı değerini hesaplamaktır.\n",
    "\n",
    "\n",
    "![vektorize.jpg](vektorize.jpg)"
   ]
  },
  {
   "cell_type": "code",
   "execution_count": 11,
   "metadata": {
    "collapsed": true
   },
   "outputs": [],
   "source": [
    "def ileribesleme(a, agirlik, bias):\n",
    "    \"\"\"Katman katman yeni a degerleri hesaplaniyor\"\"\"\n",
    "    for w, b in zip(agirlik, bias):\n",
    "        z = np.dot(w, a)+b\n",
    "        a = sigmoid(z)\n",
    "    return a"
   ]
  },
  {
   "cell_type": "code",
   "execution_count": 12,
   "metadata": {},
   "outputs": [
    {
     "name": "stdout",
     "output_type": "stream",
     "text": [
      "[[ 0.39334822]]\n"
     ]
    }
   ],
   "source": [
    "katmanlar = [2, 3, 1]\n",
    "agirlik, bias = ag(katmanlar)\n",
    "\n",
    "girdi = [[0], \n",
    "         [0]]\n",
    "print(ileribesleme(girdi, agirlik, bias))"
   ]
  },
  {
   "cell_type": "markdown",
   "metadata": {},
   "source": [
    "### Yardımcı Türevler\n",
    "\n",
    "İleri Besleme algortimasına bakarak şu türevleri bulalım, bunlar bize geri besleme algoritmasında yardımcı olacak\n",
    "\n",
    "> \n",
    "$$\n",
    "\\frac{d z_j(t+1)}{d z_i(t)} = \n",
    "\\frac{ d (\\sum_i w_{j,i}(t+1) \\times \\sigma(z_i(t)) + b_j(t+1))}{d z_i(t)}\n",
    "=\n",
    "w_{j,i}(t+1) \\times \\sigma'(z_i(t))\n",
    "$$\n",
    "\n",
    "![back1.jpg](back1.jpg)"
   ]
  },
  {
   "cell_type": "markdown",
   "metadata": {},
   "source": [
    "### Geri Besleme\n",
    "\n",
    "Geri besleme algoritmasındaki kilit nokta,\n",
    "bir nöronun ait girdideki değişim, hatayı nasıl etkiler sorusudur.\n",
    "\n",
    "\n",
    "$$\n",
    "\\Delta_j(t) =\n",
    "\\frac{d Hata}{d z_j(t)}\n",
    "$$\n",
    "\n",
    "Bu soruya vereceğimiz cevap ile, ağırlık ve bias değerlerini hatayı minimize edecek şekilde nasıl güncelleyeceğimizi bulacağız. Ve tabi gene gradyan iniş yöntemini kullanacağız.\n",
    "\n",
    "$$Hata = \\frac{1}{2} \\sum_j (y_j - a_j(T))^2$$\n",
    "\n",
    "$T$ ağdaki çıktı katmanıdır. Bu durumda çıktı katmanındaki j'inci nöronun hataya etkisi\n",
    "\n",
    "$$\n",
    "\\Delta_j(T) =\n",
    "\\frac{d Hata}{d z_j(T)} = \\frac{d Hata}{d a_j(T)} \\frac{d a_j(T)}{d z_j(T)}\n",
    "= (a_j(T)-y_j ) \\frac{d a_j(T)}{d z_j(T)}\n",
    "= (a_j(T)-y_j ) \\sigma'(z_j(T))\n",
    "$$ \n",
    "\n",
    "Çıktı katmanındaki tüm nöronların hataya olan etkisini vektörize edersek\n",
    "\n",
    "> \n",
    "$$\n",
    "\\Delta(T) = \\frac{d Hata}{d z(T)} = (a(T)-y) \\sigma'(z(T))\n",
    "$$\n",
    "\n",
    "Dikkat ederseniz, vektörize ettiğimizde indislerden kurtuluyoruz. Peki bir ara katmandan, önceki ara katmana hata nasıl yayılır?\n",
    "\n",
    "> \n",
    "$$\n",
    "\\Delta_i(t) =\n",
    "\\frac{d Hata}{d z_i(t)} \n",
    "= \n",
    "\\sum_j \\frac{d Hata}{d z_j(t+1)} \\frac{d z_j(t+1)}{d z_i(t)}\n",
    "= \n",
    "\\sum_j \\Delta_j(t+1) \\frac{d z_j(t+1)}{d z_i(t)}\n",
    "$$\n",
    "\n",
    "\n",
    "Unutmayın ki, $(t)$'inci katmandaki nöron $i$'ye ait bir hata\n",
    "$(t+1)$'inci katmandaki tüm $j$ nöronlarını etkiler. Sonuç olarak,\n",
    "\n",
    "> \n",
    "$$\n",
    "\\Delta_i(t) =\n",
    "\\sum_j \\Delta_j(t+1) w_{j,i}(t+1) \\times \\sigma'(z_i(t))\n",
    "$$\n",
    "\n",
    "$(t+1)$'inci katmandan $(t)$'inci katmana hatanın akışını vektörize edersek,\n",
    "\n",
    "$$\n",
    "\\Delta(t) =  w^T(t+1) \\cdot  \\Delta(t+1) \\times \\sigma'(z(t))\n",
    "$$\n",
    "\n",
    "![back2.jpg](back2.jpg)"
   ]
  },
  {
   "cell_type": "markdown",
   "metadata": {},
   "source": [
    "### Nöronlardaki hatanın güncellenmesi\n",
    "\n",
    "Çıktı katmanında\n",
    "$$\n",
    "\\Delta(T) = \\frac{d Hata}{d z(T)} = (a(T)-y) \\sigma'(z(T))\n",
    "$$\n",
    "\n",
    "$(t+1)$'inci ara katmandan $(t)$'inci ara katmana hatanın akışı,\n",
    "\n",
    "$$\n",
    "\\Delta(t) =  w^T(t+1) \\cdot  \\Delta(t+1) \\times \\sigma'(z(t))\n",
    "$$\n",
    "\n",
    "### Ağırlık ve bias değerlerinin güncellenmesi\n",
    "\n",
    "Hatayı minimize eden en iyi parametreleri arıyoruz.\n",
    "\n",
    "Ağırlıktaki değişim\n",
    "$$\n",
    "\\frac{d Hata}{d w_{ji}(t)} = \\frac{d Hata}{d z_{j}(t)} \\frac{d z_{j}(t)}{d w_{ji}(t)} \n",
    "= \\Delta_{j}(t)  a_i(t-1)\n",
    "$$\n",
    "\n",
    "Biasdeki değişim\n",
    "$$\n",
    "\\frac{d Hata}{d b_{j}(t)} = \\frac{d Hata}{d z_{j}(t)} \\frac{d z_{j}(t)}{d b_{j}(t)} \n",
    "= \\Delta_{j}(t) \n",
    "$$\n",
    "\n",
    "Geri Besleme algoritması neden hızlıdır?\n",
    "\n",
    "> Dikkat ederseniz $\\Delta_{j}(t)$ değerini sadece bir kez hesaplayıp, yeniden hesaplamadan bir çok yerde (Ağırlıktaki ve Biasdeki değişimde) tekrar tekrar kullanıyoruz. Bu bize hız kazandırıyor.\n",
    "\n",
    "![back3.jpg](back3.jpg)"
   ]
  },
  {
   "cell_type": "code",
   "execution_count": 13,
   "metadata": {
    "collapsed": true
   },
   "outputs": [],
   "source": [
    "def geribesleme(x,y, agirlik, bias): #girdi, cikti\n",
    "    delta_b = [np.zeros(b.shape) for b in bias]\n",
    "    delta_w = [np.zeros(w.shape) for w in agirlik]\n",
    "    \n",
    "    a = x\n",
    "    A = [a] # a degerleri\n",
    "    Z = []  # z degerleri\n",
    "    for w, b in zip(agirlik, bias):# z ve a degerlerini depolayalim\n",
    "        z = np.dot(w, a) + b\n",
    "        a = sigmoid(z)\n",
    "        Z.append(z)\n",
    "        A.append(a)\n",
    "    \n",
    "    hata = A[-1] - y # en son katmandaki hata\n",
    "    delta = hata * sigmoid_turevi(Z[-1])\n",
    "    delta_b[-1] = delta\n",
    "    delta_w[-1] = np.dot(delta, A[-2].T)\n",
    "    for k in range(2, len(katmanlar)):\n",
    "        delta = np.dot(agirlik[-k+1].T, delta) * sigmoid_turevi(Z[-k])\n",
    "        delta_b[-k] = delta\n",
    "        delta_w[-k] = np.dot(delta, A[-k-1].T)\n",
    "    return (delta_b, delta_w)  "
   ]
  },
  {
   "cell_type": "code",
   "execution_count": 14,
   "metadata": {
    "collapsed": true
   },
   "outputs": [],
   "source": [
    "def gradyan_inis(orneklem, adim, agirlik, bias):\n",
    "    delta_b = [np.zeros(b.shape) for b in bias]\n",
    "    delta_w = [np.zeros(w.shape) for w in agirlik]\n",
    "    \n",
    "    for x, y in orneklem:\n",
    "        # geri besleme tek bir x-y cifti icin w-b parametrelerinde degisimi verir\n",
    "        delta_bxy, delta_wxy = geribesleme(x, y, agirlik, bias)\n",
    "        # orneklemdeki farkli x-y ciftleri icin w-b degisimleri toplanir\n",
    "        delta_b = [nb+dnb for nb, dnb in zip(delta_b, delta_bxy)]\n",
    "        delta_w = [nw+dnw for nw, dnw in zip(delta_w, delta_wxy)]\n",
    "    \n",
    "    # w-b parametreleri turevlerinin tersi yonde guncelleniyor (gradyan_inis)    \n",
    "    agirlik = [w-(adim/len(orneklem))*nw for w, nw in zip(agirlik, delta_w)]\n",
    "    bias = [b-(adim/len(orneklem))*nb for b, nb in zip(bias, delta_b)]\n",
    "    return agirlik, bias"
   ]
  },
  {
   "cell_type": "code",
   "execution_count": 15,
   "metadata": {
    "collapsed": true
   },
   "outputs": [],
   "source": [
    "def ogrenme(veri, agirlik, bias, epochs = 30, sayi = 10, adim = 0.5, test_data=None):\n",
    "    \"\"\" epochs: kac kez tum veri kullaniacak\n",
    "        icinde sayi kadar ornek bulunan orneklemler(mini-batch)\n",
    "        gradyan-iniste kullaniliyor. Agirlik ve bias degerleri guncelleniyor.\n",
    "        Ogrenme:\n",
    "            en iyi Agirlik ve bias degerelerini bulmak\n",
    "    \"\"\"\n",
    "    veri = list(veri)\n",
    "    n = len(veri)\n",
    "\n",
    "    if test_data:\n",
    "        test_data = list(test_data)\n",
    "        n_test = len(test_data)\n",
    "\n",
    "    for j in range(epochs):\n",
    "        random.shuffle(veri)\n",
    "        for orneklem in [veri[k:k+sayi] for k in range(0, n, sayi)]:\n",
    "            agirlik, bias = gradyan_inis(orneklem, adim, agirlik, bias)\n",
    "        if test_data:\n",
    "            print(\"Epoch {} : {} / {}\".format(j, tahmin(test_data, agirlik, bias), n_test));\n",
    "        else:\n",
    "            print(\"Epoch {} complete\".format(j))\n",
    "    return agirlik, bias"
   ]
  },
  {
   "cell_type": "code",
   "execution_count": 16,
   "metadata": {
    "collapsed": true
   },
   "outputs": [],
   "source": [
    "def tahmin(test_data, agirlik, bias):\n",
    "    \"\"\"Return the number of test inputs for which the neural\n",
    "    network outputs the correct result. Note that the neural\n",
    "    network's output is assumed to be the index of whichever\n",
    "    neuron in the final layer has the highest activation.\"\"\"\n",
    "    test_results = [(np.argmax(ileribesleme(x, agirlik, bias)), y) for (x, y) in test_data]\n",
    "    return sum(int(x == y) for (x, y) in test_results)"
   ]
  },
  {
   "cell_type": "markdown",
   "metadata": {},
   "source": [
    "## Calisma\n"
   ]
  },
  {
   "cell_type": "code",
   "execution_count": 17,
   "metadata": {},
   "outputs": [
    {
     "name": "stdout",
     "output_type": "stream",
     "text": [
      "[[8 1]\n",
      " [9 9]\n",
      " [7 3]\n",
      " [9 1]\n",
      " [8 6]]\n"
     ]
    }
   ],
   "source": [
    "# 1 ile 10 arasinda 1000 adet x1 ve x2\n",
    "X = np.random.randint(10, size=(10000,2))\n",
    "print(X[1:6,])"
   ]
  },
  {
   "cell_type": "code",
   "execution_count": 18,
   "metadata": {},
   "outputs": [
    {
     "name": "stdout",
     "output_type": "stream",
     "text": [
      "[1 0 1 1 1]\n"
     ]
    }
   ],
   "source": [
    "# ilk kolon ikinci kolondan buyukse, y=1\n",
    "y = (X[:,0] > X[:,1]) * 1\n",
    "print(y[1:6,])"
   ]
  },
  {
   "cell_type": "code",
   "execution_count": 19,
   "metadata": {},
   "outputs": [
    {
     "name": "stdout",
     "output_type": "stream",
     "text": [
      "<zip object at 0x10a0aa688>\n"
     ]
    }
   ],
   "source": [
    "veri = zip(X,y)\n",
    "print(veri)"
   ]
  },
  {
   "cell_type": "code",
   "execution_count": 21,
   "metadata": {},
   "outputs": [
    {
     "name": "stdout",
     "output_type": "stream",
     "text": [
      "Epoch 0 complete\n",
      "Epoch 1 complete\n",
      "Epoch 2 complete\n",
      "Epoch 3 complete\n",
      "Epoch 4 complete\n",
      "Epoch 5 complete\n",
      "Epoch 6 complete\n",
      "Epoch 7 complete\n",
      "Epoch 8 complete\n",
      "Epoch 9 complete\n"
     ]
    }
   ],
   "source": [
    "katmanlar = [2, 6, 1]\n",
    "agirlik, bias = ag(katmanlar)\n",
    "agirlik, bias = ogrenme(veri, agirlik, bias, epochs = 10, sayi = 10, adim = 0.05)"
   ]
  },
  {
   "cell_type": "code",
   "execution_count": 22,
   "metadata": {},
   "outputs": [
    {
     "data": {
      "text/plain": [
       "([array([[-0.22594033,  0.41448543],\n",
       "         [-1.79304226,  0.73889988],\n",
       "         [-0.40693725, -1.79231886],\n",
       "         [-0.05900289, -1.88539912],\n",
       "         [ 0.92139126, -1.12725437],\n",
       "         [-0.34777916,  1.68350194]]),\n",
       "  array([[ 1.14515488,  2.00346069,  0.10789699,  1.30205599, -0.80644706,\n",
       "          -1.53902317]])],\n",
       " [array([[-0.95496157],\n",
       "         [ 1.47850848],\n",
       "         [-0.09078403],\n",
       "         [ 0.53993107],\n",
       "         [-1.27719393],\n",
       "         [-0.70266968]]), array([[-0.87388767]])])"
      ]
     },
     "execution_count": 22,
     "metadata": {},
     "output_type": "execute_result"
    }
   ],
   "source": [
    "agirlik, bias"
   ]
  },
  {
   "cell_type": "code",
   "execution_count": 25,
   "metadata": {},
   "outputs": [
    {
     "name": "stdout",
     "output_type": "stream",
     "text": [
      "[[ 0.29444602  0.294446    0.294446    0.294446    0.7923601   0.29444604]]\n"
     ]
    }
   ],
   "source": [
    "girdi = np.array([100,10])\n",
    "print(ileribesleme(girdi, agirlik, bias))"
   ]
  },
  {
   "cell_type": "code",
   "execution_count": 26,
   "metadata": {},
   "outputs": [
    {
     "name": "stdout",
     "output_type": "stream",
     "text": [
      "[[ 0.7923601  0.7923601  0.294446   0.294446   0.294446   0.7923601]]\n"
     ]
    }
   ],
   "source": [
    "girdi = np.array([0,100])\n",
    "print(ileribesleme(girdi, agirlik, bias))"
   ]
  },
  {
   "cell_type": "code",
   "execution_count": 27,
   "metadata": {
    "collapsed": true
   },
   "outputs": [],
   "source": [
    "import mnist_loader\n",
    "training_data, validation_data, test_data = mnist_loader.load_data_wrapper()\n",
    "training_data = list(training_data)"
   ]
  },
  {
   "cell_type": "code",
   "execution_count": 28,
   "metadata": {},
   "outputs": [
    {
     "data": {
      "text/plain": [
       "(1, 2)"
      ]
     },
     "execution_count": 28,
     "metadata": {},
     "output_type": "execute_result"
    }
   ],
   "source": [
    "t = training_data[1:2]\n",
    "np.shape(training_data[1:2])\n",
    "#print(training_data)\n"
   ]
  },
  {
   "cell_type": "code",
   "execution_count": 29,
   "metadata": {
    "collapsed": true
   },
   "outputs": [],
   "source": [
    "katmanlar = [784, 30, 10]\n",
    "agirlik, bias = ag(katmanlar)"
   ]
  },
  {
   "cell_type": "code",
   "execution_count": 30,
   "metadata": {},
   "outputs": [
    {
     "name": "stdout",
     "output_type": "stream",
     "text": [
      "Epoch 0 : 9099 / 10000\n",
      "Epoch 1 : 9252 / 10000\n",
      "Epoch 2 : 9279 / 10000\n"
     ]
    },
    {
     "data": {
      "text/plain": [
       "([array([[ 0.52692743, -0.51635572, -0.46859854, ...,  0.74222485,\n",
       "          -0.95390091,  2.1680461 ],\n",
       "         [-0.68995664, -1.37008425,  0.77278083, ...,  0.90109157,\n",
       "           0.51903637,  1.38607988],\n",
       "         [ 0.31347105, -0.35427878,  0.51644072, ...,  1.0237791 ,\n",
       "           0.04055459,  1.62078105],\n",
       "         ..., \n",
       "         [-0.069219  ,  0.62464401,  1.29832614, ...,  0.22958059,\n",
       "           2.15770912,  0.1137555 ],\n",
       "         [ 1.24345394, -0.7471736 , -0.04299237, ..., -0.56584895,\n",
       "           1.16007671, -1.35362772],\n",
       "         [ 1.48145274, -0.07407779,  0.80288164, ...,  0.16352206,\n",
       "           1.19552868, -0.46035591]]),\n",
       "  array([[ -1.39461550e+00,  -1.28596609e+00,  -2.48632042e+00,\n",
       "            1.37009517e+00,  -3.06951370e+00,   1.00541388e+00,\n",
       "           -3.96591398e-03,  -2.52547697e+00,   9.86664953e-01,\n",
       "            1.36722163e+00,   2.31152624e+00,   6.01503856e-01,\n",
       "           -1.81068475e+00,  -2.22797086e+00,   4.29981998e+00,\n",
       "            6.01764616e-01,  -1.53734114e+00,  -1.40803636e+00,\n",
       "           -1.34748928e+00,   2.21248918e+00,   6.94450309e-01,\n",
       "            1.05896599e+00,   1.34516636e-01,   1.62852210e+00,\n",
       "            3.02353607e+00,  -1.72282863e+00,  -2.42327111e+00,\n",
       "            8.95737939e-02,  -1.30565888e+00,  -2.04521808e+00],\n",
       "         [ -2.19123307e+00,   2.80512367e-01,  -1.19854223e-01,\n",
       "           -1.18854154e+00,   2.24636303e+00,  -1.67267922e+00,\n",
       "           -3.04342029e+00,   2.78319383e+00,   1.10110038e+00,\n",
       "           -1.24634411e+00,  -1.05962185e+00,   1.11639973e+00,\n",
       "           -1.21449624e+00,   9.24917951e-01,   2.60707331e-01,\n",
       "           -7.86178905e-01,  -4.55527671e+00,   3.25226810e-01,\n",
       "            3.01745904e+00,  -2.11800401e-01,  -1.45116538e+00,\n",
       "            3.33059610e-03,  -1.94084573e+00,  -8.75203173e-01,\n",
       "            9.03810047e-01,   2.25111918e+00,  -2.23753625e+00,\n",
       "           -7.21186415e-01,   4.55249816e-01,   2.22611773e+00],\n",
       "         [  2.46270439e+00,  -1.56242143e+00,  -3.21597510e+00,\n",
       "           -4.78152826e-01,   1.79725934e+00,  -1.23772352e-01,\n",
       "            1.50079015e+00,   2.30020681e+00,   7.18000492e-01,\n",
       "            4.32370740e+00,   7.32130777e-01,   5.21080485e-01,\n",
       "            2.29239483e+00,  -2.27440478e+00,  -7.36598527e-01,\n",
       "            1.59290462e+00,  -1.69303714e+00,  -1.02377171e+00,\n",
       "           -1.37499368e+00,  -3.26696927e+00,   2.80417730e+00,\n",
       "           -8.80691015e-01,  -4.96506589e-01,  -8.89712968e-01,\n",
       "           -1.48372803e+00,   1.19903425e+00,  -3.37346178e+00,\n",
       "            6.87375393e-01,   1.01258275e+00,  -1.68598932e+00],\n",
       "         [  8.92394835e-01,   5.88220469e-01,  -3.43065740e+00,\n",
       "            1.73240115e+00,   2.82500081e+00,  -7.90845319e-01,\n",
       "           -7.65095542e-01,  -2.31341976e+00,  -6.48495019e-01,\n",
       "           -2.78662386e+00,   2.73396156e-01,   3.05650376e+00,\n",
       "           -8.96017503e-01,   1.47985995e+00,  -1.94950004e+00,\n",
       "           -3.20581200e+00,   1.23515402e+00,  -3.15126963e-01,\n",
       "           -2.89578815e+00,  -3.70252852e+00,   7.64513480e-01,\n",
       "           -1.93471192e+00,   6.97651766e-01,   9.54407243e-01,\n",
       "            4.62444643e-01,   8.19905678e-01,  -1.96593478e+00,\n",
       "           -6.10597018e-01,   3.37535668e+00,  -3.55867606e+00],\n",
       "         [ -2.18158771e+00,  -8.92748506e-01,  -1.57980758e+00,\n",
       "           -1.58788618e+00,  -4.35470314e+00,   3.20509571e-01,\n",
       "            2.45425136e+00,  -2.04714060e+00,  -2.55937141e+00,\n",
       "           -1.41977997e-01,  -4.28181559e+00,  -6.95861727e-01,\n",
       "            2.28746469e+00,  -5.12767032e-01,  -7.13657602e-01,\n",
       "           -6.95641907e-01,  -1.13765435e+00,  -1.57074824e+00,\n",
       "            4.41598282e-01,  -9.21626127e-01,  -3.03846133e-01,\n",
       "           -1.96959684e-01,   2.57333982e+00,  -3.36057371e+00,\n",
       "            2.43228947e+00,   4.28380052e-01,  -1.23731623e+00,\n",
       "            1.71011886e+00,   8.30479715e-01,   4.05093660e-01],\n",
       "         [  1.37046196e+00,   3.13870140e+00,   1.21100960e+00,\n",
       "           -2.59174887e-01,  -1.65094187e+00,  -2.74092459e+00,\n",
       "           -4.01009870e+00,  -3.75854868e-01,   7.88532131e-01,\n",
       "           -9.87115857e-01,   9.18643275e-01,   2.11969718e+00,\n",
       "            5.11655191e-01,  -1.85256087e+00,  -6.82838644e+00,\n",
       "           -2.59712140e+00,   1.24289083e+00,  -1.49661748e+00,\n",
       "            9.48267729e-01,   2.25989228e+00,  -5.49909854e-01,\n",
       "            2.68130977e+00,   8.22318452e-01,   8.46344358e-01,\n",
       "           -2.04670925e+00,  -1.57363599e+00,  -1.56974330e+00,\n",
       "            2.15091850e+00,  -1.67127081e+00,   2.68492060e+00],\n",
       "         [ -1.42810342e+00,  -1.58628012e+00,  -3.83387282e+00,\n",
       "            4.09465789e-01,   4.76229692e+00,   3.13964364e-01,\n",
       "           -9.78852025e-01,  -1.31000066e+00,  -8.03710756e-01,\n",
       "            1.98378858e+00,  -2.53325593e+00,  -3.25632367e-01,\n",
       "            7.72740688e-01,  -1.48051778e+00,  -1.64614133e+00,\n",
       "            1.97414484e+00,   4.21026807e-02,  -9.88568914e-01,\n",
       "            1.33330617e+00,   2.57651338e+00,  -1.82756491e+00,\n",
       "           -2.04670656e+00,   1.62825566e+00,   2.53364574e+00,\n",
       "            7.19765285e-01,  -1.05571690e+00,  -1.44813598e+00,\n",
       "           -2.05951869e+00,  -1.30105301e+00,   2.06252543e+00],\n",
       "         [  4.75237014e-01,  -1.69732903e+00,  -1.92061677e+00,\n",
       "           -2.04115612e+00,  -2.50281494e+00,  -1.55427855e-01,\n",
       "           -2.63786396e-01,   2.54142811e+00,  -1.57910878e+00,\n",
       "           -3.92687061e+00,   3.99508908e+00,  -3.30121190e+00,\n",
       "           -7.55088660e-01,   2.44387764e+00,   1.15786324e-01,\n",
       "            1.50619895e+00,   7.49726659e-01,  -4.75563068e-01,\n",
       "            3.87901537e-01,   1.39491914e-01,   1.41077453e+00,\n",
       "            1.82396740e+00,   6.79639493e-01,   1.80574450e+00,\n",
       "           -1.09773831e+00,   2.38614779e+00,  -2.26955278e+00,\n",
       "           -5.06574500e-01,   1.52421237e+00,  -4.16564723e-01],\n",
       "         [  1.57517085e-01,  -2.32982766e+00,  -5.22758533e+00,\n",
       "           -8.01769208e-01,   5.26926154e-01,  -5.21712530e-01,\n",
       "            1.95786792e+00,  -2.20244328e+00,   2.87512826e+00,\n",
       "           -3.20737260e+00,  -3.96858762e-01,   2.52058161e+00,\n",
       "           -1.08691706e+00,  -1.32596387e+00,  -2.55911712e+00,\n",
       "            3.13907709e+00,   1.20482763e+00,  -6.75943344e-01,\n",
       "           -2.90291743e+00,  -1.00290385e+00,   1.16007511e+00,\n",
       "           -4.23836386e+00,  -2.19495228e+00,  -3.41615174e+00,\n",
       "            9.77125732e-01,  -2.41676554e+00,  -2.82319506e+00,\n",
       "            1.18929164e+00,  -9.31970573e-01,   2.69310622e+00],\n",
       "         [ -3.93121132e-01,  -8.50557136e-02,   3.43037292e-01,\n",
       "            1.98654167e+00,  -2.43225610e+00,   9.09662412e-01,\n",
       "           -1.09859072e+00,  -3.34272555e+00,  -1.69813946e+00,\n",
       "            1.81526861e-01,  -4.00317201e+00,  -3.21974207e+00,\n",
       "           -3.43137521e+00,   1.28708423e+00,  -7.36889695e-01,\n",
       "           -5.12894877e-01,  -5.85331293e-01,   1.59209721e+00,\n",
       "           -1.69173176e+00,   5.38241893e-01,  -1.47392432e+00,\n",
       "           -2.47106978e+00,  -3.54126183e+00,  -1.59157419e+00,\n",
       "           -1.06476227e-01,  -6.77380623e-01,  -7.53775153e-01,\n",
       "           -1.44622653e+00,  -3.90515221e-01,   1.72473102e+00]])],\n",
       " [array([[-1.72732601],\n",
       "         [-0.16313477],\n",
       "         [-0.99883485],\n",
       "         [-1.82172311],\n",
       "         [-2.18945572],\n",
       "         [-1.62223936],\n",
       "         [ 1.28284474],\n",
       "         [-0.81337652],\n",
       "         [ 0.49878006],\n",
       "         [-0.54582585],\n",
       "         [-0.15429273],\n",
       "         [-0.99550782],\n",
       "         [-0.82514439],\n",
       "         [ 0.71399458],\n",
       "         [-1.57922672],\n",
       "         [-1.69749021],\n",
       "         [ 1.411219  ],\n",
       "         [ 1.23463673],\n",
       "         [-0.48787376],\n",
       "         [-2.26800467],\n",
       "         [ 2.45176368],\n",
       "         [ 1.31175743],\n",
       "         [ 1.34884284],\n",
       "         [-0.20748532],\n",
       "         [ 0.09890873],\n",
       "         [-1.36593012],\n",
       "         [ 0.06544883],\n",
       "         [ 0.205366  ],\n",
       "         [ 1.44632982],\n",
       "         [ 0.50192552]]), array([[-1.97100685],\n",
       "         [-0.01436258],\n",
       "         [-2.06187381],\n",
       "         [-1.7614708 ],\n",
       "         [-0.75682736],\n",
       "         [-0.53682458],\n",
       "         [-2.97054666],\n",
       "         [-2.84024141],\n",
       "         [-3.71318987],\n",
       "         [ 2.1460536 ]])])"
      ]
     },
     "execution_count": 30,
     "metadata": {},
     "output_type": "execute_result"
    }
   ],
   "source": [
    "ogrenme(training_data, agirlik, bias, 3, 10, 3.0, test_data=test_data)"
   ]
  },
  {
   "cell_type": "code",
   "execution_count": 31,
   "metadata": {
    "collapsed": true
   },
   "outputs": [],
   "source": [
    "agirlik, bias = gradyan_inis(training_data[1:10],adim = 0.5, agirlik = agirlik, bias = bias)"
   ]
  },
  {
   "cell_type": "code",
   "execution_count": 32,
   "metadata": {},
   "outputs": [
    {
     "data": {
      "text/plain": [
       "([array([[ 0.52692743, -0.51635572, -0.46859854, ...,  0.74222485,\n",
       "          -0.95390091,  2.1680461 ],\n",
       "         [-0.68995664, -1.37008425,  0.77278083, ...,  0.90109157,\n",
       "           0.51903637,  1.38607988],\n",
       "         [ 0.31347105, -0.35427878,  0.51644072, ...,  1.0237791 ,\n",
       "           0.04055459,  1.62078105],\n",
       "         ..., \n",
       "         [-0.069219  ,  0.62464401,  1.29832614, ...,  0.22958059,\n",
       "           2.15770912,  0.1137555 ],\n",
       "         [ 1.24345394, -0.7471736 , -0.04299237, ..., -0.56584895,\n",
       "           1.16007671, -1.35362772],\n",
       "         [ 1.48145274, -0.07407779,  0.80288164, ...,  0.16352206,\n",
       "           1.19552868, -0.46035591]]),\n",
       "  array([[ -1.58517494e+00,   9.71274819e-01,  -8.60991307e-01,\n",
       "            1.44966624e+00,  -7.02485450e-01,   1.26727611e+00,\n",
       "           -7.90720736e-01,  -6.50369651e-01,  -2.95876518e-01,\n",
       "            6.47548039e-01,   3.73965651e-01,   1.52615766e-02,\n",
       "            8.98367183e-01,   6.44631181e-01,   8.32465851e-01,\n",
       "            4.47205372e-01,  -4.33987521e-01,  -6.54862521e-01,\n",
       "            1.38116344e+00,   9.51414091e-01,   4.33667563e-01,\n",
       "           -1.25766928e-01,   8.36424748e-01,   1.17805736e+00,\n",
       "            1.56773596e-01,   1.63657153e+00,  -9.72397354e-01,\n",
       "            5.02975945e-01,   3.11663358e-01,   9.92260805e-01],\n",
       "         [ -1.66679175e+00,  -1.79029272e-01,   6.94351153e-01,\n",
       "            6.63688157e-01,   1.69414670e+00,  -2.14209380e-01,\n",
       "           -3.99672232e-01,   1.30707548e+00,   1.67975287e+00,\n",
       "            2.17558719e-01,  -1.38474715e-01,   9.80372613e-01,\n",
       "           -2.06485260e+00,   1.05123140e+00,   3.93821170e-01,\n",
       "           -5.20713434e-01,  -3.63486612e+00,   1.20568385e+00,\n",
       "            1.39117825e+00,   6.94199267e-01,  -6.19564841e-01,\n",
       "            6.18414244e-01,   6.14323996e-01,   1.42506292e+00,\n",
       "            1.18808333e-02,  -6.79239420e-01,  -9.42563690e-01,\n",
       "           -9.66180038e-01,  -2.04830123e-01,   2.24550236e+00],\n",
       "         [  1.96708032e+00,  -1.57996134e+00,  -1.28994461e+00,\n",
       "           -3.88189224e-01,  -1.85011886e+00,   3.88721538e-02,\n",
       "           -6.37550690e-01,   1.75813205e-01,   1.13761506e+00,\n",
       "            4.23237078e-01,   1.25164471e-01,  -2.94497089e-01,\n",
       "            1.89338365e+00,  -7.86071933e-01,  -1.78261952e+00,\n",
       "            3.54530191e-01,  -4.03499408e-01,   8.99484556e-01,\n",
       "           -7.57747094e-01,  -7.35147168e-01,   5.16397467e-01,\n",
       "            2.62397338e-01,   2.65477899e-03,  -3.83753825e-01,\n",
       "           -1.42862876e+00,   4.35712150e-01,  -1.98905149e+00,\n",
       "           -7.86391251e-01,  -6.81960616e-01,  -1.17008442e+00],\n",
       "         [  1.58791500e+00,   5.77631496e-01,  -1.51617478e+00,\n",
       "            1.86347310e-01,   1.70902180e-01,   1.33244616e-01,\n",
       "           -3.96722670e-01,  -2.40876793e-01,  -4.18673954e-01,\n",
       "            4.07682437e-01,   3.30441634e-01,  -4.36672097e-01,\n",
       "            1.80342645e+00,   2.03015613e-01,   5.29788567e-01,\n",
       "           -5.30994175e-01,  -1.25256983e+00,   1.04133719e+00,\n",
       "           -1.80515312e+00,  -2.31356657e+00,  -9.86015886e-02,\n",
       "            1.24042162e+00,  -1.57222887e-01,   8.62458256e-01,\n",
       "            1.40705011e+00,   7.43228081e-01,  -3.97953431e-01,\n",
       "           -8.33360069e-01,   5.54807385e-01,  -1.37848407e+00],\n",
       "         [ -5.38788242e-02,  -8.08968410e-02,  -6.77677620e-01,\n",
       "            1.95792851e-01,  -1.34895453e+00,   6.97366658e-01,\n",
       "            3.42647066e-01,  -2.02896272e+00,  -9.99911910e-01,\n",
       "           -1.48520077e+00,  -1.35137457e+00,  -9.75153920e-01,\n",
       "            5.33077519e-01,   1.42746350e-01,  -1.15226882e+00,\n",
       "           -1.40577113e+00,   1.46166046e-02,  -9.65704482e-01,\n",
       "           -1.27291025e-01,   9.88300944e-01,  -5.27604356e-01,\n",
       "           -8.42058182e-03,   5.40693116e-01,   4.23469650e-01,\n",
       "            1.73115048e+00,  -1.97586362e-01,  -5.22883415e-01,\n",
       "            1.61764579e+00,   9.87832110e-01,   1.20975593e+00],\n",
       "         [  1.55111634e-01,   1.28728068e+00,   1.57306498e+00,\n",
       "           -2.56676279e-01,  -1.09167801e+00,  -1.21789960e+00,\n",
       "            2.41466462e-01,  -1.41754398e+00,  -3.99900216e-01,\n",
       "           -1.85567484e-01,  -7.60971923e-01,  -1.68416638e-02,\n",
       "           -1.68657788e+00,  -5.05047343e-01,  -1.47106935e+00,\n",
       "           -1.55332570e+00,   4.26522611e-01,  -1.01859841e+00,\n",
       "            1.95374659e-01,  -5.06644047e-01,  -2.23796888e+00,\n",
       "            1.04409668e+00,  -2.33023586e-01,   1.16131534e-01,\n",
       "            6.34996947e-01,   1.69498441e-01,  -1.50939430e+00,\n",
       "            9.91856842e-01,  -1.77550416e-01,   5.77785314e-01],\n",
       "         [ -3.29650415e-01,  -9.80787842e-01,  -1.45124338e+00,\n",
       "            2.61384019e-01,   1.98038009e+00,   6.30996411e-01,\n",
       "           -9.16405613e-01,   9.04207137e-01,   9.38920027e-01,\n",
       "            1.40836693e+00,  -9.09903259e-01,  -6.83697736e-01,\n",
       "           -1.08289914e-01,  -3.22572333e-01,   1.51448689e-01,\n",
       "            1.24354357e+00,   1.95468204e-01,   3.67834884e-02,\n",
       "            2.54137101e-01,   6.16189979e-01,  -1.29563323e+00,\n",
       "           -1.75842413e+00,   1.50616103e+00,   1.78135480e+00,\n",
       "            7.20926520e-01,   5.65414362e-01,   7.02443649e-01,\n",
       "           -1.55729442e+00,  -1.94856110e+00,  -3.25207073e-01],\n",
       "         [  6.38223946e-01,   2.85564203e-01,  -2.34776244e-01,\n",
       "           -4.22132850e-01,   2.62314310e-01,   4.74847491e-01,\n",
       "            4.03460214e-01,  -1.06640314e+00,   8.56630151e-01,\n",
       "           -4.86959116e-01,   1.26222404e+00,   2.87987543e-02,\n",
       "           -9.98500651e-01,   7.19010363e-01,  -1.05441996e+00,\n",
       "            8.81207776e-01,   5.88623694e-01,  -1.10073714e-01,\n",
       "            6.35844558e-01,   1.17294049e-01,  -1.37861989e+00,\n",
       "           -2.95341026e-02,  -1.47272611e+00,   5.04115478e-02,\n",
       "            5.46276126e-01,   3.22669216e-01,  -1.03570147e+00,\n",
       "            2.20553431e-01,   3.90689525e-01,  -4.45847537e-01],\n",
       "         [  9.19454800e-01,  -1.42715088e-01,  -2.24878417e+00,\n",
       "            1.29444820e-01,   3.06120498e-01,  -3.90254346e-01,\n",
       "            7.26800861e-01,  -2.10653121e-01,  -5.94992158e-01,\n",
       "           -2.30979381e+00,   1.56761884e+00,  -4.31109569e-01,\n",
       "           -1.02145169e+00,  -2.64338981e-01,  -1.44052540e+00,\n",
       "           -4.00786050e-01,  -3.24425913e-01,   1.01318045e+00,\n",
       "            1.11964841e+00,   5.65941619e-01,   6.67640762e-01,\n",
       "            1.50576767e+00,  -1.54381991e+00,  -2.85347650e-02,\n",
       "            1.38065834e+00,   2.12908842e+00,  -9.47799811e-01,\n",
       "           -6.03930119e-01,  -1.07385708e+00,  -1.15637778e+00],\n",
       "         [ -1.78794701e-01,   2.08556765e-01,   6.45331101e-01,\n",
       "           -1.46555235e-01,  -1.56843113e+00,   7.48964155e-01,\n",
       "           -1.27013011e+00,  -5.77214332e-01,   8.01751864e-01,\n",
       "           -2.33814836e-02,   8.57892881e-01,  -1.80963368e-01,\n",
       "            6.89967228e-01,  -3.49188589e-01,  -1.22142788e+00,\n",
       "            9.25919080e-01,  -4.30527641e-01,   2.04924605e-01,\n",
       "           -5.01705715e-02,   1.76520285e+00,   1.17101895e+00,\n",
       "           -8.33612881e-01,  -6.10384453e-01,  -1.25215185e+00,\n",
       "           -6.12280472e-01,  -1.00578133e+00,  -8.15484447e-01,\n",
       "           -2.41270974e+00,   1.31960930e-01,   1.44062143e-01]])],\n",
       " [array([[-1.14504907],\n",
       "         [ 0.10399834],\n",
       "         [-1.76262592],\n",
       "         [ 0.22738346],\n",
       "         [-0.44807058],\n",
       "         [-0.59155622],\n",
       "         [ 1.12318242],\n",
       "         [-0.28673079],\n",
       "         [ 1.19295928],\n",
       "         [ 0.3814605 ],\n",
       "         [-0.55907924],\n",
       "         [-0.47492468],\n",
       "         [-1.10624733],\n",
       "         [ 0.20787533],\n",
       "         [ 0.60707773],\n",
       "         [-2.49009813],\n",
       "         [ 0.34657658],\n",
       "         [ 1.10048117],\n",
       "         [-1.46758642],\n",
       "         [-1.25645513],\n",
       "         [ 2.42177742],\n",
       "         [ 0.85026713],\n",
       "         [ 0.4815627 ],\n",
       "         [-0.46877801],\n",
       "         [ 0.23329099],\n",
       "         [-0.21783943],\n",
       "         [-0.74444222],\n",
       "         [-0.12202069],\n",
       "         [ 1.2834245 ],\n",
       "         [-1.03662626]]), array([[ 0.10253604],\n",
       "         [ 0.84491182],\n",
       "         [ 0.12241367],\n",
       "         [ 0.49501758],\n",
       "         [ 0.31000012],\n",
       "         [-0.02849201],\n",
       "         [-0.38138488],\n",
       "         [-1.145063  ],\n",
       "         [-0.41829076],\n",
       "         [ 2.4415048 ]])])"
      ]
     },
     "execution_count": 32,
     "metadata": {},
     "output_type": "execute_result"
    }
   ],
   "source": [
    "agirlik, bias"
   ]
  },
  {
   "cell_type": "code",
   "execution_count": null,
   "metadata": {
    "collapsed": true
   },
   "outputs": [],
   "source": []
  }
 ],
 "metadata": {
  "kernelspec": {
   "display_name": "Python 3",
   "language": "python",
   "name": "python3"
  },
  "language_info": {
   "codemirror_mode": {
    "name": "ipython",
    "version": 3
   },
   "file_extension": ".py",
   "mimetype": "text/x-python",
   "name": "python",
   "nbconvert_exporter": "python",
   "pygments_lexer": "ipython3",
   "version": "3.6.1"
  }
 },
 "nbformat": 4,
 "nbformat_minor": 2
}
