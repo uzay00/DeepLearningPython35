{
 "cells": [
  {
   "cell_type": "markdown",
   "metadata": {},
   "source": [
    "# Python ile Yapay Sinir Aglarina Giris\n",
    "\n",
    "> Bu calisma buyuk olcude, [inzva'da](https://inzva.com/open-source-application-form?utm_source=Open+Source+Challenge+Day&utm_campaign=4d2f44397c-EMAIL_CAMPAIGN_2018_01_02&utm_medium=email&utm_term=0_9a76f360b0-4d2f44397c-41568991) duzenlenen Open Source Challenge Day Vol.5 acik kaynak etkinligi kapsaminda Uzay Cetin tarafindan hazirlanmistir. Ayrica bu calisma Sariyer akademide duzenlenen [Liseler için Yapay Zekaya Giriş Eğitimi](https://uzay00.github.io/kahve/giris.html)'nde kullanilacaktir.\n",
    "\n",
    "\n",
    "__Yapilacaklar__ \n",
    "\n",
    "* Toy data uretilecek\n",
    "* sklearn kutuphanesi yardimi ile siniflandirma yapilacak\n",
    "* sklearn kutuphanesinden elde edilen agirlik ve bias degerleri \n",
    "     \n",
    "     + sifirdan yazilan ileri besleme aginda kullanilarak tekrar siniflandirma yapilacak\n",
    "     + Daha sonrasinda geriyayilim algoritmasi sifirdan yazilarak, kendi yapay sinir agimizi yazacagiz.\n",
    "* sklearn kutuphanesindeki yazi veri kumesi uzerinde kendi yapay sinir agimizla siniflandirma yapilacaktir.\n",
    "\n",
    "__Yararlanilan Kaynaklar__\n",
    "* [veridefteri](http://www.veridefteri.com/2017/11/23/scikit-learn-ile-veri-analitigine-giris/)\n",
    "* [Michael Nielson, Neural Networks and Deep Learning](http://neuralnetworksanddeeplearning.com)\n"
   ]
  },
  {
   "cell_type": "markdown",
   "metadata": {},
   "source": [
    "### Toy data\n",
    "\n",
    "$x_0$ ve $x_1$ olmak uzere iki girdi degeri ve bir cikti $y$ degeri olan veriyi uretecegiz. $x_0$ ve $x_1$ degerleri 0 ile 100 arasinda rastgele tamsayi degerler aliyor, $y$ ise $x_0>x_1$ ise $1$ degilse $0$ degeri almaktadir.\n"
   ]
  },
  {
   "cell_type": "code",
   "execution_count": 1,
   "metadata": {},
   "outputs": [
    {
     "name": "stdout",
     "output_type": "stream",
     "text": [
      "GIRDI:\n",
      " [[ 8 89]\n",
      " [57 40]\n",
      " [68 92]\n",
      " [67 20]\n",
      " [57 60]]\n",
      "CIKTI:\n",
      " [0 1 0 1 0]\n"
     ]
    }
   ],
   "source": [
    "#numpy paketini yüklüyoruz.\n",
    "import numpy as np\n",
    "# GIRDI: 1 ile 100 arasinda 1000 adet x1 ve x2\n",
    "X = np.random.randint(100, size=(1000,2))\n",
    "# CIKTI: ilk kolon ikinci kolondan buyukse, y=1\n",
    "y = (X[:,0] > X[:,1]) * 1\n",
    "\n",
    "print(\"GIRDI:\\n\", X[1:6,])\n",
    "print(\"CIKTI:\\n\", y[1:6,])"
   ]
  },
  {
   "cell_type": "code",
   "execution_count": 2,
   "metadata": {},
   "outputs": [
    {
     "data": {
      "image/png": "[encoded data removed]",
      "text/plain": [
       "<matplotlib.figure.Figure at 0x109fa0470>"
      ]
     },
     "metadata": {},
     "output_type": "display_data"
    }
   ],
   "source": [
    "import matplotlib.pyplot as plt\n",
    "pos = (y == 1)\n",
    "plt.plot(X[pos,0], X[pos,1], \"go\")\n",
    "plt.plot(X[~pos,0], X[~pos,1], \"ro\")\n",
    "plt.xlabel(\"$x_0$\");plt.ylabel(\"$x_1$\")\n",
    "plt.show()"
   ]
  },
  {
   "cell_type": "markdown",
   "metadata": {},
   "source": [
    "### Sklearn kutuphanesi yardimi ile siniflandirma"
   ]
  },
  {
   "cell_type": "code",
   "execution_count": 3,
   "metadata": {},
   "outputs": [
    {
     "name": "stdout",
     "output_type": "stream",
     "text": [
      "ogrenme kumesinin uzunlugu:  750\n",
      "test kumesinin uzunlugu:  250\n"
     ]
    },
    {
     "name": "stderr",
     "output_type": "stream",
     "text": [
      "/Library/Frameworks/Python.framework/Versions/3.6/lib/python3.6/site-packages/sklearn/utils/validation.py:444: DataConversionWarning: Data with input dtype int64 was converted to float64 by StandardScaler.\n",
      "  warnings.warn(msg, DataConversionWarning)\n"
     ]
    },
    {
     "name": "stdout",
     "output_type": "stream",
     "text": [
      "[[120   1]\n",
      " [  1 128]]\n"
     ]
    },
    {
     "name": "stderr",
     "output_type": "stream",
     "text": [
      "/Library/Frameworks/Python.framework/Versions/3.6/lib/python3.6/site-packages/sklearn/neural_network/multilayer_perceptron.py:564: ConvergenceWarning: Stochastic Optimizer: Maximum iterations (500) reached and the optimization hasn't converged yet.\n",
      "  % self.max_iter, ConvergenceWarning)\n"
     ]
    }
   ],
   "source": [
    "#################################################\n",
    "# Datayi train ve test olark ayir\n",
    "from sklearn.model_selection import train_test_split\n",
    "X_train, X_test, y_train, y_test = train_test_split(X, y)\n",
    "print(\"ogrenme kumesinin uzunlugu: \", len(X_train))\n",
    "print(\"test kumesinin uzunlugu: \", len(X_test))\n",
    "\n",
    "#################################################\n",
    "# Datayi normalize et \n",
    "#.      Standardize features by removing the mean and scaling to unit variance\n",
    "#.      Centering and scaling happen independently on each feature\n",
    "from sklearn.preprocessing import StandardScaler\n",
    "scaler = StandardScaler()\n",
    "\n",
    "# Fit only to the training data\n",
    "scaler.fit(X_train)\n",
    "\n",
    "# Now apply the transformations to the data:\n",
    "X_train = scaler.transform(X_train)\n",
    "X_test = scaler.transform(X_test)\n",
    "\n",
    "#################################################\n",
    "# yapay ogrenme\n",
    "# Agin katmanlari 2 (girdi), 3(ara) , 1(cikti) \n",
    "    # SADECE ara katman degerlerini MLPClassifier'a veriyoruz\n",
    "    # sigmoid icin activation= 'logistic' seciyoruz\n",
    "from sklearn.neural_network import MLPClassifier\n",
    "mlp = MLPClassifier(activation= 'logistic', hidden_layer_sizes=(3),max_iter=500)\n",
    "mlp.fit(X_train,y_train)\n",
    "\n",
    "\n",
    "#################################################\n",
    "# tahminde bulun\n",
    "predictions = mlp.predict(X_test)\n",
    "# sonuclara bak\n",
    "from sklearn.metrics import classification_report,confusion_matrix\n",
    "print(confusion_matrix(y_test,predictions))"
   ]
  },
  {
   "cell_type": "markdown",
   "metadata": {},
   "source": [
    "## Sifirdan Ileri Besleme Agi\n",
    "\n",
    "sklearn kutuphanesinden elde edilen agirlik (mlp.coefs_) ve bias (mlp.intercepts_) degerlerini kendi ileri besleme agimizda kullanacagiz."
   ]
  },
  {
   "cell_type": "code",
   "execution_count": 4,
   "metadata": {},
   "outputs": [
    {
     "name": "stdout",
     "output_type": "stream",
     "text": [
      "agirlik :\n",
      "[[-1.88141318  1.71888803]\n",
      " [ 1.49093284 -1.22026666]\n",
      " [ 1.7194988  -2.08641553]] \n",
      "\n",
      "[[-2.30193491  1.1164206   2.13425249]] \n",
      "\n",
      "bias :\n",
      "[[ 0.1702897 ]\n",
      " [-0.18059533]\n",
      " [-0.17099307]] \n",
      "\n",
      "[[-0.31920663]] \n",
      "\n"
     ]
    }
   ],
   "source": [
    "# W, b icinde sklearn kutuphanesinden gelen agirlik ve bias degerlerini tutacagiz\n",
    "W, b = [], []\n",
    "for c, i in zip(mlp.coefs_, mlp.intercepts_):\n",
    "    W.append(c.T)\n",
    "    b.append(i.reshape((len(i), 1)))\n",
    "    \n",
    "# Agirliklar (girdi-ara) 3x2 matris\n",
    "# Agirliklar (ara-cikti) 1x3 matris\n",
    "print(\"agirlik :\")\n",
    "for w in W:\n",
    "    print(w, \"\\n\")\n",
    "    \n",
    "print(\"bias :\")\n",
    "for i in b:\n",
    "    print(i, \"\\n\")"
   ]
  },
  {
   "cell_type": "markdown",
   "metadata": {},
   "source": [
    "Ornek bir veride ileri besleme agimizin ciktilari sklearn ciktilari ile karsilastiralim. Ama oncelikle ornek verimizin de normalize edilmesi gerekiyor."
   ]
  },
  {
   "cell_type": "code",
   "execution_count": 5,
   "metadata": {},
   "outputs": [
    {
     "name": "stdout",
     "output_type": "stream",
     "text": [
      "[[-1.46634628 -1.72167202]\n",
      " [-1.50243    -1.72167202]\n",
      " [-1.57459745 -1.58067849]\n",
      " [-1.61068117 -1.54543011]\n",
      " [-1.75501606 -1.43968496]]\n",
      "Tahmin: \n",
      " [1 1 0 0 0]\n"
     ]
    }
   ],
   "source": [
    "# help(StandardScaler)\n",
    "ornek_veri =  [  [9, 1],\n",
    "                 [8,1],\n",
    "                 [6,5],\n",
    "                 [5,6],\n",
    "                 [1,9]]\n",
    "ornek_veri = scaler.transform(ornek_veri)\n",
    "print(ornek_veri)\n",
    "\n",
    "tahmin = mlp.predict(ornek_veri)\n",
    "print(\"Tahmin: \\n\", tahmin)"
   ]
  },
  {
   "cell_type": "markdown",
   "metadata": {},
   "source": [
    "### Ileri Besleme Agimizi yazalim"
   ]
  },
  {
   "cell_type": "code",
   "execution_count": 6,
   "metadata": {
    "collapsed": true
   },
   "outputs": [],
   "source": [
    "#### Yardimci Fonksiyonlar\n",
    "def sigmoid(z):\n",
    "    return 1.0/(1.0+np.exp(-z))\n",
    "def sigmoid_turevi(z):\n",
    "    return sigmoid(z)*(1-sigmoid(z))\n",
    "\n",
    "def ileribesleme(a, agirlik, bias, goster = False):\n",
    "    \"\"\"Katman katman yeni a degerleri hesaplaniyor\n",
    "    Girdinin transpozu (satirlar ozellik, sutunlar gozlem) a olarak verilmeli. \n",
    "    \"\"\"\n",
    "    for w, b in zip(agirlik, bias):\n",
    "        if goster:\n",
    "            print(\"w:\\n\", w, \"\\n\")\n",
    "            print(\"a:\\n\", a, \"\\n\")\n",
    "            print(\"np.dot(w, a):\\n\", np.dot(w, a), \"\\n\")\n",
    "            print(\"b:\\n\", b, \"\\n\")\n",
    "            print(\"a = sigmoid(np.dot(w, a)+b):\\n\", sigmoid(np.dot(w, a)+b), \"\\n\\n\",\n",
    "                  \"**\"*20,\"\\n\\n\")\n",
    "        z = np.dot(w, a)+b\n",
    "        a = sigmoid(z)   \n",
    "    return a"
   ]
  },
  {
   "cell_type": "code",
   "execution_count": 7,
   "metadata": {},
   "outputs": [
    {
     "name": "stdout",
     "output_type": "stream",
     "text": [
      "w:\n",
      " [[-1.88141318  1.71888803]\n",
      " [ 1.49093284 -1.22026666]\n",
      " [ 1.7194988  -2.08641553]] \n",
      "\n",
      "a:\n",
      " [[-1.46634628 -1.50243    -1.57459745 -1.61068117 -1.75501606]\n",
      " [-1.72167202 -1.72167202 -1.58067849 -1.54543011 -1.43968496]] \n",
      "\n",
      "np.dot(w, a):\n",
      " [[-0.20055821 -0.13266982  0.24545906  0.37393548  0.82725312]\n",
      " [-0.08532486 -0.13912327 -0.41876979 -0.51558063 -0.85981154]\n",
      " [ 1.07074256  1.00869665  0.59043372  0.45484502 -0.01396697]] \n",
      "\n",
      "b:\n",
      " [[ 0.1702897 ]\n",
      " [-0.18059533]\n",
      " [-0.17099307]] \n",
      "\n",
      "a = sigmoid(np.dot(w, a)+b):\n",
      " [[ 0.49243345  0.50940386  0.60246552  0.63279475  0.73057519]\n",
      " [ 0.43390896  0.42074433  0.35448896  0.33266061  0.2610715 ]\n",
      " [ 0.71089802  0.69798134  0.60334939  0.57049033  0.45389136]] \n",
      "\n",
      " **************************************** \n",
      "\n",
      "\n",
      "w:\n",
      " [[-2.30193491  1.1164206   2.13425249]] \n",
      "\n",
      "a:\n",
      " [[ 0.49243345  0.50940386  0.60246552  0.63279475  0.73057519]\n",
      " [ 0.43390896  0.42074433  0.35448896  0.33266061  0.2610715 ]\n",
      " [ 0.71089802  0.69798134  0.60334939  0.57049033  0.45389136]] \n",
      "\n",
      "np.dot(w, a):\n",
      " [[ 0.86811102  0.78678152  0.29662231  0.13230723 -0.42155217]] \n",
      "\n",
      "b:\n",
      " [[-0.31920663]] \n",
      "\n",
      "a = sigmoid(np.dot(w, a)+b):\n",
      " [[ 0.63388136  0.61480961  0.49435416  0.45341069  0.32283824]] \n",
      "\n",
      " **************************************** \n",
      "\n",
      "\n"
     ]
    },
    {
     "data": {
      "text/plain": [
       "array([[ 0.63388136,  0.61480961,  0.49435416,  0.45341069,  0.32283824]])"
      ]
     },
     "execution_count": 7,
     "metadata": {},
     "output_type": "execute_result"
    }
   ],
   "source": [
    "ileribesleme(ornek_veri.T, W, b, goster = True)"
   ]
  },
  {
   "cell_type": "code",
   "execution_count": 8,
   "metadata": {},
   "outputs": [
    {
     "data": {
      "text/plain": [
       "array([[1, 1, 0, 0, 0]])"
      ]
     },
     "execution_count": 8,
     "metadata": {},
     "output_type": "execute_result"
    }
   ],
   "source": [
    "## Ciktimiz\n",
    "(ileribesleme(ornek_veri.T, W, b) > 0.5) * 1"
   ]
  },
  {
   "cell_type": "code",
   "execution_count": 9,
   "metadata": {},
   "outputs": [
    {
     "data": {
      "text/plain": [
       "array([[ True,  True,  True,  True,  True]], dtype=bool)"
      ]
     },
     "execution_count": 9,
     "metadata": {},
     "output_type": "execute_result"
    }
   ],
   "source": [
    "## sklearn ciktisi ile ayni sonucu urettik mi?\n",
    "tahmin == (ileribesleme(ornek_veri.T, W, b) > 0.5) * 1"
   ]
  },
  {
   "cell_type": "code",
   "execution_count": null,
   "metadata": {
    "collapsed": true
   },
   "outputs": [],
   "source": []
  },
  {
   "cell_type": "code",
   "execution_count": null,
   "metadata": {
    "collapsed": true
   },
   "outputs": [],
   "source": []
  },
  {
   "cell_type": "code",
   "execution_count": null,
   "metadata": {
    "collapsed": true
   },
   "outputs": [],
   "source": []
  },
  {
   "cell_type": "code",
   "execution_count": null,
   "metadata": {
    "collapsed": true
   },
   "outputs": [],
   "source": []
  },
  {
   "cell_type": "markdown",
   "metadata": {},
   "source": [
    "## Sifirdan Geri Yayilim Algoritmasi"
   ]
  },
  {
   "cell_type": "code",
   "execution_count": null,
   "metadata": {
    "collapsed": true
   },
   "outputs": [],
   "source": []
  },
  {
   "cell_type": "code",
   "execution_count": null,
   "metadata": {
    "collapsed": true
   },
   "outputs": [],
   "source": []
  },
  {
   "cell_type": "code",
   "execution_count": null,
   "metadata": {
    "collapsed": true
   },
   "outputs": [],
   "source": []
  },
  {
   "cell_type": "code",
   "execution_count": null,
   "metadata": {
    "collapsed": true
   },
   "outputs": [],
   "source": []
  },
  {
   "cell_type": "code",
   "execution_count": null,
   "metadata": {
    "collapsed": true
   },
   "outputs": [],
   "source": []
  },
  {
   "cell_type": "code",
   "execution_count": null,
   "metadata": {
    "collapsed": true
   },
   "outputs": [],
   "source": []
  },
  {
   "cell_type": "code",
   "execution_count": null,
   "metadata": {
    "collapsed": true
   },
   "outputs": [],
   "source": []
  },
  {
   "cell_type": "code",
   "execution_count": null,
   "metadata": {
    "collapsed": true
   },
   "outputs": [],
   "source": []
  },
  {
   "cell_type": "markdown",
   "metadata": {},
   "source": [
    "## Rakamlar veri kümesi uzerinde calisma"
   ]
  },
  {
   "cell_type": "code",
   "execution_count": 11,
   "metadata": {},
   "outputs": [
    {
     "data": {
      "image/png": "[encoded data removed]",
      "text/plain": [
       "<matplotlib.figure.Figure at 0x11524dd68>"
      ]
     },
     "metadata": {},
     "output_type": "display_data"
    },
    {
     "name": "stdout",
     "output_type": "stream",
     "text": [
      "Etiket: 0\n"
     ]
    }
   ],
   "source": [
    "#Rakamlar veri kümesini yüklüyoruz.\n",
    "from sklearn.datasets import load_digits\n",
    "#Veri kümesini etiket değerleriyle birlikte yükleyelim.\n",
    "X,y = load_digits(return_X_y=True)\n",
    "\n",
    "rakam1 = X[0]\n",
    "rakam1 = np.reshape(rakam1, (8,8))\n",
    "\n",
    "plt.figure(figsize= (2,2))\n",
    "plt.imshow(rakam1, cmap=\"gray_r\")\n",
    "plt.show()\n",
    "etiket1 = y[0]\n",
    "print('Etiket: ' + str(etiket1))"
   ]
  },
  {
   "cell_type": "code",
   "execution_count": 12,
   "metadata": {},
   "outputs": [
    {
     "name": "stdout",
     "output_type": "stream",
     "text": [
      "(360, 64)\n",
      "(360,)\n"
     ]
    }
   ],
   "source": [
    "# Bu veri kumesinden sadece 0 ve 1 rakamlarini secelim\n",
    "X= X[y < 2]\n",
    "y= y[y < 2]\n",
    "\n",
    "print(X.shape)\n",
    "print(y.shape)"
   ]
  },
  {
   "cell_type": "code",
   "execution_count": 13,
   "metadata": {},
   "outputs": [
    {
     "name": "stdout",
     "output_type": "stream",
     "text": [
      "ogrenme kumesinin uzunlugu:  270\n",
      "test kumesinin uzunlugu:  90\n",
      "[[41  0]\n",
      " [ 0 49]]\n"
     ]
    },
    {
     "name": "stderr",
     "output_type": "stream",
     "text": [
      "/Library/Frameworks/Python.framework/Versions/3.6/lib/python3.6/site-packages/sklearn/neural_network/multilayer_perceptron.py:564: ConvergenceWarning: Stochastic Optimizer: Maximum iterations (500) reached and the optimization hasn't converged yet.\n",
      "  % self.max_iter, ConvergenceWarning)\n"
     ]
    }
   ],
   "source": [
    "#################################################\n",
    "# Datayi train ve test olark ayir\n",
    "from sklearn.model_selection import train_test_split\n",
    "X_train, X_test, y_train, y_test = train_test_split(X, y)\n",
    "print(\"ogrenme kumesinin uzunlugu: \", len(X_train))\n",
    "print(\"test kumesinin uzunlugu: \", len(X_test))\n",
    "\n",
    "#################################################\n",
    "# Datayi normalize et \n",
    "#.      Standardize features by removing the mean and scaling to unit variance\n",
    "#.      Centering and scaling happen independently on each feature\n",
    "from sklearn.preprocessing import StandardScaler\n",
    "scaler = StandardScaler()\n",
    "\n",
    "# Fit only to the training data\n",
    "scaler.fit(X_train)\n",
    "\n",
    "# Now apply the transformations to the data:\n",
    "X_train = scaler.transform(X_train)\n",
    "X_test = scaler.transform(X_test)\n",
    "\n",
    "#################################################\n",
    "# yapay ogrenme\n",
    "# Agin katmanlari 2 (girdi), 3(ara) , 1(cikti) \n",
    "    # SADECE ara katman degerlerini MLPClassifier'a veriyoruz\n",
    "    # sigmoid icin activation= 'logistic' seciyoruz\n",
    "from sklearn.neural_network import MLPClassifier\n",
    "mlp = MLPClassifier(activation= 'logistic', hidden_layer_sizes=(3),max_iter=500)\n",
    "mlp.fit(X_train,y_train)\n",
    "\n",
    "\n",
    "#################################################\n",
    "# tahminde bulun\n",
    "predictions = mlp.predict(X_test)\n",
    "# sonuclara bak\n",
    "from sklearn.metrics import classification_report,confusion_matrix\n",
    "print(confusion_matrix(y_test,predictions))"
   ]
  },
  {
   "cell_type": "code",
   "execution_count": null,
   "metadata": {
    "collapsed": true
   },
   "outputs": [],
   "source": []
  }
 ],
 "metadata": {
  "kernelspec": {
   "display_name": "Python 3",
   "language": "python",
   "name": "python3"
  },
  "language_info": {
   "codemirror_mode": {
    "name": "ipython",
    "version": 3
   },
   "file_extension": ".py",
   "mimetype": "text/x-python",
   "name": "python",
   "nbconvert_exporter": "python",
   "pygments_lexer": "ipython3",
   "version": "3.6.1"
  }
 },
 "nbformat": 4,
 "nbformat_minor": 2
}
